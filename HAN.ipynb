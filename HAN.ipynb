{
  "nbformat": 4,
  "nbformat_minor": 0,
  "metadata": {
    "colab": {
      "name": "HAN.ipynb",
      "provenance": [],
      "collapsed_sections": [],
      "machine_shape": "hm",
      "authorship_tag": "ABX9TyPdoBcVuYMXDjlviwCztahw",
      "include_colab_link": true
    },
    "kernelspec": {
      "name": "python3",
      "display_name": "Python 3"
    },
    "language_info": {
      "name": "python"
    },
    "accelerator": "GPU"
  },
  "cells": [
    {
      "cell_type": "markdown",
      "metadata": {
        "id": "view-in-github",
        "colab_type": "text"
      },
      "source": [
        "<a href=\"https://colab.research.google.com/github/jaekyoungkim/NLP_STUDY/blob/main/HAN.ipynb\" target=\"_parent\"><img src=\"https://colab.research.google.com/assets/colab-badge.svg\" alt=\"Open In Colab\"/></a>"
      ]
    },
    {
      "cell_type": "code",
      "execution_count": null,
      "metadata": {
        "id": "z5cUxpwNzdm5"
      },
      "outputs": [],
      "source": [
        "# https://blog.naver.com/hist0134/221386940063\n",
        "# http://hist0134.blog.me/221179965199\n",
        "# https://github.com/hist0613/keras-implementations/blob/main/IMDB-HieAtt.ipynb\n",
        "# https://github.com/kwonsuhan/Exchange-Rate-Caster/blob/a4dff9961e44572b7a950c347944f3386f9cbe1e/code/han/HAN_model.py\n",
        "# [Keras] Hierarchical Attention Networks for Document Classification 구현"
      ]
    },
    {
      "cell_type": "code",
      "source": [
        "# IMDB-HieAtt.ipynb\n",
        "# We provide a set of 25,000 highly polar movie reviews for training, and 25,000 for testing. There is additional unlabeled data for use as well. \n",
        "import keras\n",
        "from keras import backend as K\n",
        "import tensorflow as tf\n",
        "\n",
        "#from keras.engine.topology import Layer 수정해야함\n",
        "#from tensorflow.python.keras.layers import Layer, InputSpec\n",
        "\n",
        "from tensorflow.keras.layers import Layer, InputSpec\n",
        "from keras.layers import Input, Embedding, Dense\n",
        "from keras.layers import Lambda, Permute, RepeatVector, Multiply\n",
        "from keras.layers import Bidirectional, TimeDistributed\n",
        "from keras.layers import CuDNNGRU, GRU\n",
        "from keras.layers import BatchNormalization, Dropout\n",
        "from keras.models import Model, Sequential\n",
        "\n",
        "from keras.callbacks import EarlyStopping, ModelCheckpoint"
      ],
      "metadata": {
        "id": "G27Jxk2L02cN"
      },
      "execution_count": 3,
      "outputs": []
    },
    {
      "cell_type": "code",
      "source": [
        "\n",
        "!nltk.download('punkt')\n",
        "import nltk"
      ],
      "metadata": {
        "colab": {
          "base_uri": "https://localhost:8080/"
        },
        "id": "w8ZPKbBo53aY",
        "outputId": "32b1ce33-7345-4ebd-d2da-c9646788ab42"
      },
      "execution_count": 4,
      "outputs": [
        {
          "output_type": "stream",
          "name": "stdout",
          "text": [
            "/bin/bash: -c: line 0: syntax error near unexpected token `'punkt''\n",
            "/bin/bash: -c: line 0: `nltk.download('punkt')'\n"
          ]
        }
      ]
    },
    {
      "cell_type": "code",
      "source": [
        "from google.colab import drive\n",
        "drive.mount('/content/gdrive')\n",
        "#4/1AX4XfWgKzT5FnEsEqbHv_MJeAYGD6bx-GaC_4wW5f-wWQPUEX9zI2zEL4ug\n",
        "# crm = pd.read_csv('gdrive/MyDrive/DW_DATA/CRMDATA_product.csv', encoding = 'c==p949')  # cp949\n",
        "# CRM품목정리 파일 활용\n",
        "# utf-8  or cp 949 로 코딩"
      ],
      "metadata": {
        "colab": {
          "base_uri": "https://localhost:8080/"
        },
        "id": "tYSo3Sc3tkmX",
        "outputId": "99a724b5-2c04-4b02-c0b9-e4cc895c0ce3"
      },
      "execution_count": 5,
      "outputs": [
        {
          "output_type": "stream",
          "name": "stdout",
          "text": [
            "Mounted at /content/gdrive\n"
          ]
        }
      ]
    },
    {
      "cell_type": "code",
      "source": [
        "# long sentence 할때 이 부분 숫자를 조정해야할듯\n",
        "# 데이터에서 max(sentence) 값을 적용해야할듯\n",
        "\n",
        "MAX_SENTENCES = 10\n",
        "MAX_SENTENCE_LENGTH = 25"
      ],
      "metadata": {
        "id": "kXxG-aZQ6Sbt"
      },
      "execution_count": 6,
      "outputs": []
    },
    {
      "cell_type": "code",
      "source": [
        "# refer: http://ai.stanford.edu/~amaas/data/sentiment/\n",
        "\n",
        "\n",
        "import os\n",
        "\n",
        "data_dir = \"gdrive/MyDrive/dataset/IMDB/aclImdb\"  # 데이터 받아서 해당 폴더 생성한거에 집어넣음\n",
        "train_dir = os.path.join(data_dir, 'train')\n",
        "test_dir = os.path.join(data_dir, 'test')\n",
        "print(train_dir)\n",
        "print(test_dir)"
      ],
      "metadata": {
        "colab": {
          "base_uri": "https://localhost:8080/"
        },
        "id": "DPgMXfp1trmI",
        "outputId": "e0ebe317-05ab-4769-8ebf-27903a46c0ad"
      },
      "execution_count": 7,
      "outputs": [
        {
          "output_type": "stream",
          "name": "stdout",
          "text": [
            "gdrive/MyDrive/dataset/IMDB/aclImdb/train\n",
            "gdrive/MyDrive/dataset/IMDB/aclImdb/test\n"
          ]
        }
      ]
    },
    {
      "cell_type": "code",
      "source": [
        "base_dir = 'gdrive/MyDrive/dataset/IMDB/aclImdb'\n",
        "split_dir = os.path.join(base_dir, 'train')\n",
        "split_dir"
      ],
      "metadata": {
        "colab": {
          "base_uri": "https://localhost:8080/",
          "height": 34
        },
        "id": "ftjDAdsw1CLM",
        "outputId": "c2fd16b4-a7e5-4e79-c29f-3765f35522d4"
      },
      "execution_count": 8,
      "outputs": [
        {
          "output_type": "execute_result",
          "data": {
            "application/vnd.google.colaboratory.intrinsic+json": {
              "type": "string"
            },
            "text/plain": [
              "'gdrive/MyDrive/dataset/IMDB/aclImdb/train'"
            ]
          },
          "metadata": {},
          "execution_count": 8
        }
      ]
    },
    {
      "cell_type": "code",
      "source": [
        "def load_dataset(split='train'):\n",
        "    x_data = []\n",
        "    y_data = []\n",
        "    \n",
        "    base_dir = 'gdrive/MyDrive/dataset/IMDB/aclImdb'\n",
        "    split_dir = os.path.join(base_dir, split)\n",
        "    for sentiment, y in [('neg', 0), ('pos', 1)]:\n",
        "        data_dir = os.path.join(split_dir, sentiment)   # dir~~~ /neg 폴더 , dir~~~ /pos 폴더 각각에서 데이터 뽑기\n",
        "        for file_name in os.listdir(data_dir):\n",
        "            file_path = os.path.join(data_dir, file_name)\n",
        "            with open(file_path, 'r', encoding='utf-8') as fp:\n",
        "                review = fp.read()\n",
        "            x_data.append(review)\n",
        "            y_data.append(y)\n",
        "            \n",
        "    return x_data, y_data"
      ],
      "metadata": {
        "id": "0qXBLIJl8hy3"
      },
      "execution_count": 9,
      "outputs": []
    },
    {
      "cell_type": "code",
      "source": [
        "train_x_data, train_y_data = load_dataset(split='train') \n",
        "test_x_data, test_y_data = load_dataset(split='test')\n",
        "\n",
        "print(\"len(train_x_data): {}\".format(len(train_x_data)))\n",
        "print(\"len(test_x_data): {}\".format(len(test_x_data)))"
      ],
      "metadata": {
        "id": "KxlNkpgdz5Ef",
        "colab": {
          "base_uri": "https://localhost:8080/"
        },
        "outputId": "2c4d9485-409b-47f1-a604-8bebeb6d2f81"
      },
      "execution_count": 10,
      "outputs": [
        {
          "output_type": "stream",
          "name": "stdout",
          "text": [
            "len(train_x_data): 25000\n",
            "len(test_x_data): 25000\n"
          ]
        }
      ]
    },
    {
      "cell_type": "code",
      "source": [
        "train_x_data[4]"
      ],
      "metadata": {
        "id": "2-ZQVa4l6SfF",
        "colab": {
          "base_uri": "https://localhost:8080/",
          "height": 102
        },
        "outputId": "f5b2a2d9-deac-47d9-fb00-3144841834f3"
      },
      "execution_count": 11,
      "outputs": [
        {
          "output_type": "execute_result",
          "data": {
            "application/vnd.google.colaboratory.intrinsic+json": {
              "type": "string"
            },
            "text/plain": [
              "'OK, so I just saw the movie, although it appeared last year... I thought that it was generally a decent movie, except for the storyline, which was stupid and horrible... First of all, we never get to know anything about the creatures, why they appeared, wtf are they doing in our world, and really, have they been on Earth before we were or did they just come from space? Secondly, the role of the butcher to maintain order is just so obviously created... Really, how large could the underground for a sub station could have been? There were only so many of those creatures, so I think instead of killing innocent people in vain, they could have just planted some tactical bombs, or maybe clear the are and a Nuke would have done the job. I know it sounds funny and it is, but I do not see the killing of people as being NECESSARY... Thirdly, Leon acts like Superman jumping on the train and fighting Vinnie Jones, who was way taller and bigger in stature. Then again, when he faces the conductor he does nothing and acts as a wimp, watching all the abominations. I mean OK, the conductor had creepy help(lol), but if Leon was so brave he would have gone all the way... I mean he risks his life first, then does nothing exactly when he should have. He could have died as a hero but lives as a coward... this might be the case, but not after showing so much braveness earlier on... Then, the cop thing... come on! This was a city having a subway, I bet there must have been other cops except that lady, other police stations,this was really kind of silly... All in all, great acting by Vinnie Jones, interesting idea up to the reason behind it which is not really built at all... By the way, what did the signs on the chest mean? Vinnie Jones cannot make up for the rest...'"
            ]
          },
          "metadata": {},
          "execution_count": 11
        }
      ]
    },
    {
      "cell_type": "code",
      "source": [
        "train_y_data[4]"
      ],
      "metadata": {
        "colab": {
          "base_uri": "https://localhost:8080/"
        },
        "id": "71uPbeN96ZcY",
        "outputId": "e0fcbbdd-9440-49d1-9f9f-c0b9bc2a1908"
      },
      "execution_count": 12,
      "outputs": [
        {
          "output_type": "execute_result",
          "data": {
            "text/plain": [
              "0"
            ]
          },
          "metadata": {},
          "execution_count": 12
        }
      ]
    },
    {
      "cell_type": "code",
      "source": [
        "import numpy as np\n",
        "from keras.preprocessing.text import Tokenizer  # 토큰화하는 패키지\n",
        "from keras.preprocessing.sequence import pad_sequences # padding 을 위한 패키지\n",
        "#from keras.utils import to_categorical # 범주형 변수로 만들어줌 / 실행안되는 이유확인\n",
        "from tensorflow.keras.utils import to_categorical # \n",
        "from nltk.tokenize import sent_tokenize  # 문장을 token화 시킴\n",
        "import nltk"
      ],
      "metadata": {
        "id": "EF3wKKPp6Zfd"
      },
      "execution_count": 13,
      "outputs": []
    },
    {
      "cell_type": "code",
      "source": [
        "nltk.download() #'punkt'"
      ],
      "metadata": {
        "colab": {
          "base_uri": "https://localhost:8080/"
        },
        "id": "zZsafForJt81",
        "outputId": "d593fed4-89c0-446a-af93-95e075ac55fa"
      },
      "execution_count": 14,
      "outputs": [
        {
          "name": "stdout",
          "output_type": "stream",
          "text": [
            "NLTK Downloader\n",
            "---------------------------------------------------------------------------\n",
            "    d) Download   l) List    u) Update   c) Config   h) Help   q) Quit\n",
            "---------------------------------------------------------------------------\n",
            "Downloader> D\n",
            "\n",
            "Download which package (l=list; x=cancel)?\n",
            "  Identifier> punkt\n",
            "    Downloading package punkt to /root/nltk_data...\n",
            "      Unzipping tokenizers/punkt.zip.\n",
            "\n",
            "---------------------------------------------------------------------------\n",
            "    d) Download   l) List    u) Update   c) Config   h) Help   q) Quit\n",
            "---------------------------------------------------------------------------\n",
            "Downloader> q\n"
          ]
        },
        {
          "output_type": "execute_result",
          "data": {
            "text/plain": [
              "True"
            ]
          },
          "metadata": {},
          "execution_count": 14
        }
      ]
    },
    {
      "cell_type": "code",
      "source": [
        "tokenizer = Tokenizer()\n",
        "tokenizer.fit_on_texts(train_x_data)\n",
        "tokenizer.fit_on_texts(test_x_data)\n",
        "\n",
        "max_nb_words = len(tokenizer.word_index) + 1  # 토큰나이즈했을때에 나타나는 단어개수만큼"
      ],
      "metadata": {
        "id": "rpqPvtQmIMov"
      },
      "execution_count": 15,
      "outputs": []
    },
    {
      "cell_type": "code",
      "source": [
        "\n",
        "a=sent_tokenize(train_x_data[5])\n",
        "a  #문장단위로 끊어줌, 끊는 기준이 있을것임\n",
        "\n",
        "b = tokenizer.texts_to_sequences(a)\n",
        "print(b)"
      ],
      "metadata": {
        "colab": {
          "base_uri": "https://localhost:8080/"
        },
        "id": "FiIZ8soDIRuq",
        "outputId": "2384aa6d-21c9-4d6b-faea-9618faaa0b61"
      },
      "execution_count": 16,
      "outputs": [
        {
          "output_type": "stream",
          "name": "stdout",
          "text": [
            "[[23, 22, 3839, 68], [3, 119, 14522, 296, 35, 2096, 12310, 2, 42636, 15, 3, 6009], [85, 1024, 77, 22, 25, 5, 26, 5, 77, 11], [59, 200, 26, 480, 5, 3710, 18, 9, 6, 21, 996, 8, 11, 303, 527, 2891, 11313, 1376, 353], [10, 118, 59, 45, 3, 4061, 1582, 6951, 4048], [34, 124, 4636, 33192, 18, 10, 89, 63, 87, 16, 1156, 31140, 615, 12310, 4, 4392, 5398, 2, 38711, 7, 7, 59, 45, 3, 6128, 770, 56310], [56310], [542, 681, 42, 250, 3, 389, 12, 364, 7, 7, 51, 55, 6, 995, 20, 2375, 48043, 71, 823, 6187], [35, 45, 12, 242, 4, 55], [20563, 142, 26, 20, 125, 27895, 21, 20, 56, 240], [11, 119, 142, 26, 20, 1059, 2274, 21, 1678, 2274]]\n"
          ]
        }
      ]
    },
    {
      "cell_type": "code",
      "source": [
        "c = pad_sequences(b, maxlen=25) # 길이를 25로 맞추기\n",
        "print(c)"
      ],
      "metadata": {
        "colab": {
          "base_uri": "https://localhost:8080/"
        },
        "id": "CXuT3uerLQ_e",
        "outputId": "ca2a89c8-7c3c-45fb-c5a4-7c6cf1199c03"
      },
      "execution_count": 17,
      "outputs": [
        {
          "output_type": "stream",
          "name": "stdout",
          "text": [
            "[[    0     0     0     0     0     0     0     0     0     0     0     0\n",
            "      0     0     0     0     0     0     0     0     0    23    22  3839\n",
            "     68]\n",
            " [    0     0     0     0     0     0     0     0     0     0     0     0\n",
            "      0     3   119 14522   296    35  2096 12310     2 42636    15     3\n",
            "   6009]\n",
            " [    0     0     0     0     0     0     0     0     0     0     0     0\n",
            "      0     0     0    85  1024    77    22    25     5    26     5    77\n",
            "     11]\n",
            " [    0     0     0     0     0     0    59   200    26   480     5  3710\n",
            "     18     9     6    21   996     8    11   303   527  2891 11313  1376\n",
            "    353]\n",
            " [    0     0     0     0     0     0     0     0     0     0     0     0\n",
            "      0     0     0     0    10   118    59    45     3  4061  1582  6951\n",
            "   4048]\n",
            " [ 4636 33192    18    10    89    63    87    16  1156 31140   615 12310\n",
            "      4  4392  5398     2 38711     7     7    59    45     3  6128   770\n",
            "  56310]\n",
            " [    0     0     0     0     0     0     0     0     0     0     0     0\n",
            "      0     0     0     0     0     0     0     0     0     0     0     0\n",
            "  56310]\n",
            " [    0     0     0     0     0   542   681    42   250     3   389    12\n",
            "    364     7     7    51    55     6   995    20  2375 48043    71   823\n",
            "   6187]\n",
            " [    0     0     0     0     0     0     0     0     0     0     0     0\n",
            "      0     0     0     0     0     0     0    35    45    12   242     4\n",
            "     55]\n",
            " [    0     0     0     0     0     0     0     0     0     0     0     0\n",
            "      0     0     0 20563   142    26    20   125 27895    21    20    56\n",
            "    240]\n",
            " [    0     0     0     0     0     0     0     0     0     0     0     0\n",
            "      0     0     0    11   119   142    26    20  1059  2274    21  1678\n",
            "   2274]]\n"
          ]
        }
      ]
    },
    {
      "cell_type": "code",
      "source": [
        "tokenizer"
      ],
      "metadata": {
        "colab": {
          "base_uri": "https://localhost:8080/"
        },
        "id": "Lg8Vim0w-iQ9",
        "outputId": "0b324fb0-8686-4725-b174-51981b44fe70"
      },
      "execution_count": 18,
      "outputs": [
        {
          "output_type": "execute_result",
          "data": {
            "text/plain": [
              "<keras_preprocessing.text.Tokenizer at 0x7f24447492d0>"
            ]
          },
          "metadata": {},
          "execution_count": 18
        }
      ]
    },
    {
      "cell_type": "code",
      "source": [
        "max_nb_words # 124253"
      ],
      "metadata": {
        "colab": {
          "base_uri": "https://localhost:8080/"
        },
        "id": "0yx26Kll-lJw",
        "outputId": "6cc6324a-2acf-4995-da4a-235bc75feb8e"
      },
      "execution_count": 19,
      "outputs": [
        {
          "output_type": "execute_result",
          "data": {
            "text/plain": [
              "124253"
            ]
          },
          "metadata": {},
          "execution_count": 19
        }
      ]
    },
    {
      "cell_type": "code",
      "source": [
        "MAX_SENTENCE_LENGTH "
      ],
      "metadata": {
        "colab": {
          "base_uri": "https://localhost:8080/"
        },
        "id": "FexyIekKHLrc",
        "outputId": "3c65742b-5aad-48ef-e232-5888e27a935a"
      },
      "execution_count": 20,
      "outputs": [
        {
          "output_type": "execute_result",
          "data": {
            "text/plain": [
              "25"
            ]
          },
          "metadata": {},
          "execution_count": 20
        }
      ]
    },
    {
      "cell_type": "code",
      "source": [
        "MAX_SENTENCES"
      ],
      "metadata": {
        "colab": {
          "base_uri": "https://localhost:8080/"
        },
        "id": "dCopOJnuHMiT",
        "outputId": "778fc3e7-9d7e-4023-a8f9-86fa57ddb961"
      },
      "execution_count": 21,
      "outputs": [
        {
          "output_type": "execute_result",
          "data": {
            "text/plain": [
              "10"
            ]
          },
          "metadata": {},
          "execution_count": 21
        }
      ]
    },
    {
      "cell_type": "code",
      "source": [
        "def doc2hierarchical(text,  \n",
        "                     max_sentences=MAX_SENTENCES,  # 10\n",
        "                     max_sentence_length=MAX_SENTENCE_LENGTH):  # 15\n",
        "    sentences = sent_tokenize(text)   # 긴문장을 문장 단위로 쪼개줌\n",
        "    tokenized_sentences = tokenizer.texts_to_sequences(sentences)\n",
        "    tokenized_sentences = pad_sequences(tokenized_sentences, maxlen=max_sentence_length) # 패딩을 써서 길이를 맞춰춤\n",
        "\n",
        "    pad_size = max_sentences - tokenized_sentences.shape[0]\n",
        "\n",
        "    if pad_size <= 0:  # tokenized_sentences.shape[0] < max_sentences\n",
        "        tokenized_sentences = tokenized_sentences[:max_sentences]  # 패딩사이즈를 넘어가면 중간에 잘라주어야함\n",
        "    else:\n",
        "        tokenized_sentences = np.pad(\n",
        "            tokenized_sentences, ((0, pad_size), (0, 0)),\n",
        "            mode='constant', constant_values=0\n",
        "        )\n",
        "    \n",
        "    return tokenized_sentences  \n",
        "            \n",
        "def build_dataset(x_data, y_data, \n",
        "                  max_sentences=MAX_SENTENCES, \n",
        "                  max_sentence_length=MAX_SENTENCE_LENGTH,\n",
        "                  tokenizer=tokenizer):\n",
        "    \n",
        "    nb_instances = len(x_data)\n",
        "    X_data = np.zeros((nb_instances, max_sentences, max_sentence_length), dtype='int32')\n",
        "    for i, review in enumerate(x_data):\n",
        "        tokenized_sentences = doc2hierarchical(review)\n",
        "            \n",
        "        X_data[i] = tokenized_sentences[None, ...]\n",
        "        \n",
        "    nb_classes = len(set(y_data))  # 0,1 2개 카테고리 > 2값이 나옴\n",
        "    Y_data = to_categorical(y_data, nb_classes)  #  1/0 binary를 2개의 컬럼으로 나타냄 / one-hot encoding과 같음\n",
        "    \n",
        "    return X_data, Y_data\n",
        "\n",
        "train_X_data, train_Y_data = build_dataset(train_x_data, train_y_data)\n",
        "test_X_data, test_Y_data = build_dataset(test_x_data, test_y_data)\n",
        "\n",
        "print(\"train_X_data.shape: {}\".format(train_X_data.shape))\n",
        "print(\"test_X_data.shape: {}\".format(test_X_data.shape))"
      ],
      "metadata": {
        "colab": {
          "base_uri": "https://localhost:8080/"
        },
        "id": "NCN3o4KM5HrD",
        "outputId": "9309ef24-bba3-4e69-e2ca-039f8e99b6f0"
      },
      "execution_count": 22,
      "outputs": [
        {
          "output_type": "stream",
          "name": "stdout",
          "text": [
            "train_X_data.shape: (25000, 10, 25)\n",
            "test_X_data.shape: (25000, 10, 25)\n"
          ]
        }
      ]
    },
    {
      "cell_type": "code",
      "source": [
        "doc2hierarchical(train_x_data[5])"
      ],
      "metadata": {
        "colab": {
          "base_uri": "https://localhost:8080/"
        },
        "id": "-qX867LoM97o",
        "outputId": "e60afeb2-cd62-4569-8763-eae26f57481e"
      },
      "execution_count": 23,
      "outputs": [
        {
          "output_type": "execute_result",
          "data": {
            "text/plain": [
              "array([[    0,     0,     0,     0,     0,     0,     0,     0,     0,\n",
              "            0,     0,     0,     0,     0,     0,     0,     0,     0,\n",
              "            0,     0,     0,    23,    22,  3839,    68],\n",
              "       [    0,     0,     0,     0,     0,     0,     0,     0,     0,\n",
              "            0,     0,     0,     0,     3,   119, 14522,   296,    35,\n",
              "         2096, 12310,     2, 42636,    15,     3,  6009],\n",
              "       [    0,     0,     0,     0,     0,     0,     0,     0,     0,\n",
              "            0,     0,     0,     0,     0,     0,    85,  1024,    77,\n",
              "           22,    25,     5,    26,     5,    77,    11],\n",
              "       [    0,     0,     0,     0,     0,     0,    59,   200,    26,\n",
              "          480,     5,  3710,    18,     9,     6,    21,   996,     8,\n",
              "           11,   303,   527,  2891, 11313,  1376,   353],\n",
              "       [    0,     0,     0,     0,     0,     0,     0,     0,     0,\n",
              "            0,     0,     0,     0,     0,     0,     0,    10,   118,\n",
              "           59,    45,     3,  4061,  1582,  6951,  4048],\n",
              "       [ 4636, 33192,    18,    10,    89,    63,    87,    16,  1156,\n",
              "        31140,   615, 12310,     4,  4392,  5398,     2, 38711,     7,\n",
              "            7,    59,    45,     3,  6128,   770, 56310],\n",
              "       [    0,     0,     0,     0,     0,     0,     0,     0,     0,\n",
              "            0,     0,     0,     0,     0,     0,     0,     0,     0,\n",
              "            0,     0,     0,     0,     0,     0, 56310],\n",
              "       [    0,     0,     0,     0,     0,   542,   681,    42,   250,\n",
              "            3,   389,    12,   364,     7,     7,    51,    55,     6,\n",
              "          995,    20,  2375, 48043,    71,   823,  6187],\n",
              "       [    0,     0,     0,     0,     0,     0,     0,     0,     0,\n",
              "            0,     0,     0,     0,     0,     0,     0,     0,     0,\n",
              "            0,    35,    45,    12,   242,     4,    55],\n",
              "       [    0,     0,     0,     0,     0,     0,     0,     0,     0,\n",
              "            0,     0,     0,     0,     0,     0, 20563,   142,    26,\n",
              "           20,   125, 27895,    21,    20,    56,   240]], dtype=int32)"
            ]
          },
          "metadata": {},
          "execution_count": 23
        }
      ]
    },
    {
      "cell_type": "code",
      "source": [
        "from sklearn.model_selection import train_test_split\n",
        "# train -> train과 valid로 나누기\n",
        "train_X_data, val_X_data, train_Y_data, val_Y_data = train_test_split(train_X_data, train_Y_data, \n",
        "                                                                      test_size=0.1, \n",
        "                                                                      random_state=42)\n",
        "print(\"train_X_data.shape: {}\".format(train_X_data.shape))\n",
        "print(\"train_Y_data.shape: {}\".format(train_Y_data.shape))\n",
        "print(\"val_X_data.shape: {}\".format(val_X_data.shape))\n",
        "print(\"val_Y_data.shape: {}\".format(val_Y_data.shape))"
      ],
      "metadata": {
        "colab": {
          "base_uri": "https://localhost:8080/"
        },
        "id": "XNcKOXyA6KDb",
        "outputId": "6372b438-36da-49a9-bef8-23645fef150b"
      },
      "execution_count": 24,
      "outputs": [
        {
          "output_type": "stream",
          "name": "stdout",
          "text": [
            "train_X_data.shape: (22500, 10, 25)\n",
            "train_Y_data.shape: (22500, 2)\n",
            "val_X_data.shape: (2500, 10, 25)\n",
            "val_Y_data.shape: (2500, 2)\n"
          ]
        }
      ]
    },
    {
      "cell_type": "code",
      "source": [
        "train_X_data[1]"
      ],
      "metadata": {
        "colab": {
          "base_uri": "https://localhost:8080/"
        },
        "id": "S16lt544GtY3",
        "outputId": "08133545-a625-44c9-ccfc-51cce603b4a5"
      },
      "execution_count": 25,
      "outputs": [
        {
          "output_type": "execute_result",
          "data": {
            "text/plain": [
              "array([[    0,     0,     0,    56,   325,     2,    10,    37,     5,\n",
              "          817,    62,   364,   182,   859,   861,    97,     2,   103,\n",
              "           93,    16,   260,   350,    15,     3,   423],\n",
              "       [    0,     0,     0,     0,     0,     0,     0,     0,     0,\n",
              "           73,   210,    11,    27,    20, 83582,  2295,     2,   877,\n",
              "            5,   726,     9,     5,   260,  6526,  1011],\n",
              "       [    0,     0,     0,     0,     0,     0,     0,     0,     0,\n",
              "            0,   146,    50,    10,   131,    11,    17,     6,   372,\n",
              "           10,   383,     9,     8,     3,    49,    95],\n",
              "       [    0,     0,   267,    42,     9,     1,   113,   355,   158,\n",
              "           64,  1367,     6,    39,    34, 12595,     2,   359,   332,\n",
              "           18,  1606,    48,   162,     9,    34,    49],\n",
              "       [    0,     0,     0,     0,     0,     0,     0,     0,     0,\n",
              "            0,    10,   101,     8,    27,   129,     1,   150,   588,\n",
              "           37,    33,    70,   160,  1334,     8,   274],\n",
              "       [    0,    10,    62,   433,    12,  2590,    90,    11,    19,\n",
              "          292,   600,    50,    33,    90,     9,    84,    43,    33,\n",
              "           70,    91,    12,    58,    39,    26,   625],\n",
              "       [    0,     0,     0,     0,     0,    43,    22,    37,     5,\n",
              "          103,    62,   364,   182,    97,    39,     5,    94,   245,\n",
              "            4,    93,    91,    10,   377,    11,    27],\n",
              "       [    0,     0,     0,     0,     0,     0,     0,     0,     0,\n",
              "            0,     0,     0,     0,     0,     0,     0,     0,     0,\n",
              "            0,     0,     0,     0,     0,     0,     0],\n",
              "       [    0,     0,     0,     0,     0,     0,     0,     0,     0,\n",
              "            0,     0,     0,     0,     0,     0,     0,     0,     0,\n",
              "            0,     0,     0,     0,     0,     0,     0],\n",
              "       [    0,     0,     0,     0,     0,     0,     0,     0,     0,\n",
              "            0,     0,     0,     0,     0,     0,     0,     0,     0,\n",
              "            0,     0,     0,     0,     0,     0,     0]], dtype=int32)"
            ]
          },
          "metadata": {},
          "execution_count": 25
        }
      ]
    },
    {
      "cell_type": "code",
      "source": [
        "train_Y_data[1]"
      ],
      "metadata": {
        "colab": {
          "base_uri": "https://localhost:8080/"
        },
        "id": "lUE6CQP9G12x",
        "outputId": "de60827a-dbe2-4060-c4ef-09a994d9ab93"
      },
      "execution_count": 26,
      "outputs": [
        {
          "output_type": "execute_result",
          "data": {
            "text/plain": [
              "array([1., 0.], dtype=float32)"
            ]
          },
          "metadata": {},
          "execution_count": 26
        }
      ]
    },
    {
      "cell_type": "code",
      "source": [
        "# google이 이미 word2vec의 결과로 각 word에 대한 vector를 만들어서 배포\n",
        "# 하지만 용량이 커서 작은 용량에서는 어렵죠. 그래서 작은 용량의 word2vec vector로 존재\n",
        "# vector를 특정 분야에 맞게 특화시키킬 원할 경우,\n",
        "# Word2vec.intersect_word2vec_format(googleNews_filepath, binary=True, lockf=1.0)을 통해 쉽게 초기값을 설정\n",
        "# word2vec-GoogleNews-vectors에서 이미 학습된 word2vector를 다운가능\n",
        "# 다만, 학습된 모델을 가져오는 것이 아니라, “학습된 vector”만을 수치로 가져오는 것이죠.\n",
        "# 다운로드 받아놓은게 있어서 따로 다운받을 필요 없을듯\n",
        "import gensim.downloader as api\n",
        "wv = api.load('word2vec-google-news-300')\n",
        "vec_king = wv['king']"
      ],
      "metadata": {
        "colab": {
          "base_uri": "https://localhost:8080/"
        },
        "id": "C9rmGu6bQ3fR",
        "outputId": "3bdca414-e9b5-4b40-c84d-f63f6f64770d"
      },
      "execution_count": null,
      "outputs": [
        {
          "output_type": "stream",
          "name": "stdout",
          "text": [
            "[==================================================] 100.0% 1662.8/1662.8MB downloaded\n"
          ]
        }
      ]
    },
    {
      "cell_type": "code",
      "source": [
        "wv['boy'].shape # 300차원 벡터로 표현됨  GoogleNews-vectors-negative300"
      ],
      "metadata": {
        "colab": {
          "base_uri": "https://localhost:8080/"
        },
        "id": "5xcuC-1HTuid",
        "outputId": "b05e32d0-c625-433b-aee8-e63d1f186835"
      },
      "execution_count": null,
      "outputs": [
        {
          "output_type": "execute_result",
          "data": {
            "text/plain": [
              "(300,)"
            ]
          },
          "metadata": {},
          "execution_count": 45
        }
      ]
    },
    {
      "cell_type": "code",
      "source": [
        "wv['boy']"
      ],
      "metadata": {
        "colab": {
          "base_uri": "https://localhost:8080/"
        },
        "id": "OlRMc8K-WAQX",
        "outputId": "bd527d87-c8e6-42a4-f646-49dcc778d63d"
      },
      "execution_count": null,
      "outputs": [
        {
          "output_type": "execute_result",
          "data": {
            "text/plain": [
              "array([ 2.35351562e-01,  1.65039062e-01,  9.32617188e-02, -1.28906250e-01,\n",
              "        1.59912109e-02,  3.61328125e-02, -1.16699219e-01, -7.32421875e-02,\n",
              "        1.38671875e-01,  1.15356445e-02,  1.87500000e-01, -2.91015625e-01,\n",
              "        1.70898438e-02, -1.84570312e-01, -2.87109375e-01,  2.54821777e-03,\n",
              "       -2.19726562e-01,  1.77734375e-01, -1.20605469e-01,  5.39550781e-02,\n",
              "        3.78417969e-02,  2.49023438e-01,  1.76757812e-01,  2.69775391e-02,\n",
              "        1.21093750e-01, -3.51562500e-01, -5.83496094e-02,  1.22070312e-01,\n",
              "        5.97656250e-01, -1.60156250e-01,  1.08398438e-01, -2.40478516e-02,\n",
              "       -1.16699219e-01,  3.58886719e-02, -2.37304688e-01,  1.15234375e-01,\n",
              "        5.27343750e-01, -2.18750000e-01, -4.54101562e-02,  3.30078125e-01,\n",
              "        3.75976562e-02, -5.51757812e-02,  3.26171875e-01,  6.74438477e-03,\n",
              "        3.71093750e-01,  3.68652344e-02,  6.68945312e-02,  5.17578125e-02,\n",
              "       -4.76074219e-02, -7.91015625e-02,  4.46777344e-02,  1.67968750e-01,\n",
              "        5.51757812e-02, -2.91015625e-01,  2.59765625e-01, -1.00097656e-01,\n",
              "       -1.09863281e-01, -9.15527344e-03,  2.63671875e-02, -3.44238281e-02,\n",
              "        9.37500000e-02,  3.53515625e-01,  8.39843750e-02, -7.75146484e-03,\n",
              "        8.64257812e-02, -5.24902344e-02, -5.59082031e-02, -8.59375000e-02,\n",
              "        5.37109375e-02, -1.47094727e-02,  3.63769531e-02,  4.68750000e-02,\n",
              "       -3.39843750e-01,  1.28906250e-01, -1.22558594e-01,  4.57031250e-01,\n",
              "        1.27929688e-01, -2.89062500e-01,  1.56250000e-01,  3.73535156e-02,\n",
              "        2.75390625e-01, -1.28784180e-02, -1.50390625e-01, -1.64062500e-01,\n",
              "       -3.39843750e-01,  8.00781250e-02, -9.21630859e-03,  2.78320312e-02,\n",
              "        9.32617188e-02,  2.25830078e-02, -1.62353516e-02, -8.25195312e-02,\n",
              "       -1.90429688e-02, -3.49121094e-02,  9.42382812e-02,  3.66210938e-02,\n",
              "        6.39648438e-02,  2.00195312e-01, -4.05273438e-02, -1.08886719e-01,\n",
              "       -3.93676758e-03, -2.55859375e-01,  6.78710938e-02, -1.89453125e-01,\n",
              "        1.72851562e-01, -1.73828125e-01,  2.07031250e-01, -1.59179688e-01,\n",
              "        2.85339355e-03, -1.80664062e-01, -6.93359375e-02,  2.05078125e-01,\n",
              "        5.93261719e-02, -2.17773438e-01, -1.36718750e-01, -4.91333008e-03,\n",
              "       -1.38671875e-01, -7.47070312e-02, -3.54003906e-02,  1.13769531e-01,\n",
              "        3.07617188e-02, -1.05957031e-01, -3.30078125e-01, -2.72216797e-02,\n",
              "       -1.94091797e-02,  9.52148438e-02,  8.69140625e-02, -2.16064453e-02,\n",
              "       -6.98242188e-02, -1.73828125e-01, -1.60156250e-01, -2.44140625e-01,\n",
              "        9.82666016e-03,  2.24609375e-02, -2.13867188e-01,  1.91406250e-01,\n",
              "        2.01171875e-01,  2.72216797e-02,  2.81982422e-02,  2.42187500e-01,\n",
              "        3.55468750e-01, -5.32226562e-02,  1.78710938e-01,  6.78710938e-02,\n",
              "       -6.73828125e-02,  3.49609375e-01, -1.92382812e-01, -1.00097656e-02,\n",
              "       -2.05078125e-01, -1.59179688e-01,  3.76953125e-01, -2.15820312e-01,\n",
              "       -2.36328125e-01,  6.49414062e-02, -1.39770508e-02,  4.22363281e-02,\n",
              "        2.51464844e-02, -1.00585938e-01,  1.37695312e-01, -2.43164062e-01,\n",
              "        1.20605469e-01,  2.03857422e-02,  3.12500000e-01,  1.09863281e-01,\n",
              "       -1.04980469e-01, -9.13085938e-02,  2.21679688e-01, -1.04003906e-01,\n",
              "        1.25976562e-01,  5.10253906e-02,  6.39648438e-02, -1.15722656e-01,\n",
              "       -3.19824219e-02, -8.34960938e-02, -1.97265625e-01, -2.33154297e-02,\n",
              "        1.94335938e-01,  2.24609375e-01, -2.30468750e-01,  4.17480469e-02,\n",
              "        6.49414062e-02, -1.70898438e-01,  7.86132812e-02, -3.58886719e-02,\n",
              "       -1.66015625e-01,  2.25585938e-01,  1.23535156e-01,  1.08398438e-01,\n",
              "        1.15722656e-01,  7.37304688e-02, -1.56250000e-02, -5.85937500e-02,\n",
              "       -8.93554688e-02,  1.30859375e-01,  1.90429688e-01, -3.58886719e-02,\n",
              "       -1.36718750e-02, -1.88476562e-01, -1.48437500e-01, -2.51953125e-01,\n",
              "       -1.22558594e-01, -2.75390625e-01, -1.54296875e-01, -2.83203125e-01,\n",
              "        1.10839844e-01, -2.46093750e-01,  1.89453125e-01, -2.50244141e-02,\n",
              "        8.59375000e-02, -1.17675781e-01, -2.46582031e-02, -1.32812500e-01,\n",
              "        1.00097656e-01, -2.45117188e-01, -2.02148438e-01, -7.56835938e-02,\n",
              "        6.03027344e-02,  1.72851562e-01, -6.59179688e-02,  6.78710938e-02,\n",
              "        6.98242188e-02, -4.10156250e-02,  2.14843750e-01,  7.17773438e-02,\n",
              "       -4.57763672e-03, -4.04357910e-04,  8.59375000e-02, -2.55859375e-01,\n",
              "       -4.32128906e-02, -1.31835938e-01,  2.05078125e-02, -2.46093750e-01,\n",
              "       -1.28906250e-01,  1.23535156e-01, -1.48437500e-01,  5.15136719e-02,\n",
              "       -1.55273438e-01, -1.70898438e-01,  1.92382812e-01,  2.16796875e-01,\n",
              "        5.81054688e-02, -1.28906250e-01, -1.43554688e-01, -7.78198242e-03,\n",
              "       -1.15234375e-01,  4.08203125e-01, -3.37890625e-01,  8.64257812e-02,\n",
              "        2.08007812e-01,  2.35595703e-02,  1.36718750e-01, -4.71191406e-02,\n",
              "        9.91210938e-02,  1.18164062e-01,  1.19140625e-01,  1.24511719e-01,\n",
              "        4.66308594e-02,  5.41992188e-02, -2.11914062e-01, -8.20312500e-02,\n",
              "       -5.17578125e-02,  2.03857422e-02, -1.59179688e-01, -1.76757812e-01,\n",
              "        8.54492188e-02,  1.38671875e-01, -1.01562500e-01,  2.61230469e-02,\n",
              "       -1.88476562e-01, -1.57470703e-02,  1.21093750e-01, -9.66796875e-02,\n",
              "        2.13623047e-02, -6.68945312e-02, -2.69775391e-02,  3.51562500e-02,\n",
              "        1.68945312e-01,  1.55639648e-02, -1.25976562e-01, -1.44531250e-01,\n",
              "        1.78710938e-01, -7.42187500e-02,  2.72216797e-02,  4.98046875e-01,\n",
              "       -6.03027344e-02, -1.35742188e-01, -1.62109375e-01,  9.57031250e-02,\n",
              "       -1.84326172e-02,  3.90625000e-01,  1.90429688e-02, -1.03149414e-02,\n",
              "       -1.15234375e-01, -2.91015625e-01, -5.95703125e-02, -5.37109375e-02,\n",
              "       -7.42187500e-02, -2.65625000e-01, -1.03027344e-01,  1.35742188e-01],\n",
              "      dtype=float32)"
            ]
          },
          "metadata": {},
          "execution_count": 46
        }
      ]
    },
    {
      "cell_type": "code",
      "source": [
        "embedding_dir = 'gdrive/MyDrive/dataset/word2vec' # 파일 넣은 위치\n",
        "# word2vec을 가져옴\n",
        "def load_word2vec(tokenizer=tokenizer): \n",
        "    from gensim.models import KeyedVectors\n",
        "    embedding_path = os.path.join(embedding_dir, 'GoogleNews-vectors-negative300.bin')  # embedding_dir 위치에 다운로드 받은 파일을 넣기 다운받는데 시간이 좀 걸림\n",
        "    # https://s3.amazonaws.com/dl4j-distribution/GoogleNews-vectors-negative300.bin.gz 해당링크에서 파일 다운로드 1.5GB정도됨\n",
        "    embeddings_index = KeyedVectors.load_word2vec_format(embedding_path, binary=True)\n",
        "    \n",
        "    return embeddings_index  # embedding_index 를 불러옴, 예를들면 dog라는 단어가 있으면 dog의  index 500 을 가져옴\n",
        "    "
      ],
      "metadata": {
        "id": "Uz4dJkL6_VR4"
      },
      "execution_count": 27,
      "outputs": []
    },
    {
      "cell_type": "code",
      "source": [
        "def load_embedding(embedding_type='word2vec',\n",
        "                   tokenizer=tokenizer,\n",
        "                   embedding_dim=300):\n",
        "    \n",
        "    if embedding_type == 'word2vec':\n",
        "        embeddings_index = load_word2vec()  # 위에서 언급한 함수가 사용됨 load_word2vec\n",
        "        \n",
        "    embedding_matrix = np.random.normal(0, 1, (max_nb_words, embedding_dim))\n",
        "    for word, i in tokenizer.word_index.items():\n",
        "        try:\n",
        "            embedding_vector = embeddings_index[word]\n",
        "        except KeyError:\n",
        "            embedding_vector = None\n",
        "        if embedding_vector is not None:\n",
        "            embedding_matrix[i] = embedding_vector\n",
        "            \n",
        "    return embedding_matrix  \n",
        "    # dog라른 단어가 있으면 해당 index를 구하고 해당 index를 찾아서 이에 대한 벡터를 가져옴\n",
        "    # 전체 사용한 단어에 대해서 이에 대한 벡터 매트릭스를 생성해줌\n",
        "    # 여기서는 124253단어에 대해서 해당 벡터를 전부 가져올 수 있음\n"
      ],
      "metadata": {
        "id": "bHkCVzI4TumR"
      },
      "execution_count": 28,
      "outputs": []
    },
    {
      "cell_type": "code",
      "source": [
        "embedding_matrix = load_embedding('word2vec')\n",
        "\n",
        "print(\"embedding_matrix.shape: {}\".format(embedding_matrix.shape))"
      ],
      "metadata": {
        "colab": {
          "base_uri": "https://localhost:8080/"
        },
        "id": "55Hd3H1WZynu",
        "outputId": "738c8e41-d427-4d37-9731-a9534e191382"
      },
      "execution_count": 29,
      "outputs": [
        {
          "output_type": "stream",
          "name": "stdout",
          "text": [
            "embedding_matrix.shape: (124253, 300)\n"
          ]
        }
      ]
    },
    {
      "cell_type": "code",
      "source": [
        "embedding_matrix # 총 124253 개의 단어들을 각각 300차원으로 만들어서 표현함"
      ],
      "metadata": {
        "colab": {
          "base_uri": "https://localhost:8080/"
        },
        "id": "EFKP4bYbacNr",
        "outputId": "b83551ad-6e65-4da5-8da5-193dbc4d0dbb"
      },
      "execution_count": 30,
      "outputs": [
        {
          "output_type": "execute_result",
          "data": {
            "text/plain": [
              "array([[ 0.85353044, -0.28853454,  0.96693072, ..., -0.25224713,\n",
              "        -1.28752434, -1.04295023],\n",
              "       [ 0.08007812,  0.10498047,  0.04980469, ...,  0.00366211,\n",
              "         0.04760742, -0.06884766],\n",
              "       [ 0.85041997, -1.18120098,  0.81523884, ..., -1.29745357,\n",
              "         0.67851223, -0.81698972],\n",
              "       ...,\n",
              "       [ 1.38614819, -0.08508842, -1.45087245, ..., -1.06125602,\n",
              "         0.39004481, -2.55503882],\n",
              "       [-0.09130859, -0.28320312,  0.07128906, ..., -0.33789062,\n",
              "        -0.36132812,  0.29101562],\n",
              "       [-0.18066406,  0.10351562, -0.0324707 , ...,  0.19238281,\n",
              "        -0.14550781,  0.0480957 ]])"
            ]
          },
          "metadata": {},
          "execution_count": 30
        }
      ]
    },
    {
      "cell_type": "code",
      "source": [
        "embedding_matrix.shape[0]"
      ],
      "metadata": {
        "colab": {
          "base_uri": "https://localhost:8080/"
        },
        "id": "7mVSeeWRIe4W",
        "outputId": "1d124ebe-1bd0-4497-85cf-287a4e606cf2"
      },
      "execution_count": 31,
      "outputs": [
        {
          "output_type": "execute_result",
          "data": {
            "text/plain": [
              "124253"
            ]
          },
          "metadata": {},
          "execution_count": 31
        }
      ]
    },
    {
      "cell_type": "code",
      "source": [
        "embedding_matrix.shape[1]"
      ],
      "metadata": {
        "colab": {
          "base_uri": "https://localhost:8080/"
        },
        "id": "ROk6AynVR5pt",
        "outputId": "18833cbf-3849-4b0c-c365-6d5ee3f557f9"
      },
      "execution_count": 32,
      "outputs": [
        {
          "output_type": "execute_result",
          "data": {
            "text/plain": [
              "300"
            ]
          },
          "metadata": {},
          "execution_count": 32
        }
      ]
    },
    {
      "cell_type": "code",
      "source": [
        "# evaluation function 3가지\n",
        "def recall(y_target, y_pred):   # 2개 요소 실제값, 예측값 필요\n",
        "    # clip(t, clip_value_min, clip_value_max) : clip_value_min~clip_value_max 이외 가장자리를 깎아 낸다\n",
        "    # round : 반올림한다\n",
        "    y_target_yn = K.round(K.clip(y_target, 0, 1)) # 실제값을 0(Negative) 또는 1(Positive)로 설정한다\n",
        "    y_pred_yn = K.round(K.clip(y_pred, 0, 1)) # 예측값을 0(Negative) 또는 1(Positive)로 설정한다\n",
        "\n",
        "    # True Positive는 실제 값과 예측 값이 모두 1(Positive)인 경우이다\n",
        "    count_true_positive = K.sum(y_target_yn * y_pred_yn) \n",
        "\n",
        "    # (True Positive + False Negative) = 실제 값이 1(Positive) 전체\n",
        "    count_true_positive_false_negative = K.sum(y_target_yn)\n",
        "\n",
        "    # Recall =  (True Positive) / (True Positive + False Negative)\n",
        "    # K.epsilon()는 'divide by zero error' 예방차원에서 작은 수를 더한다\n",
        "    recall = count_true_positive / (count_true_positive_false_negative + K.epsilon())\n",
        "    \n",
        "    # TP = y_target_yn * y_pred_yn\n",
        "    # FN = y_target_yn - (y_target_yn * y_pred_yn) \n",
        "    \n",
        "    # return a single tensor value\n",
        "    return recall\n",
        "\n",
        "\n",
        "def precision(y_target, y_pred):# 2개 요소 실제값, 예측값 필요\n",
        "    # clip(t, clip_value_min, clip_value_max) : clip_value_min~clip_value_max 이외 가장자리를 깎아 낸다\n",
        "    # round : 반올림한다\n",
        "    y_pred_yn = K.round(K.clip(y_pred, 0, 1)) # 예측값을 0(Negative) 또는 1(Positive)로 설정한다\n",
        "    y_target_yn = K.round(K.clip(y_target, 0, 1)) # 실제값을 0(Negative) 또는 1(Positive)로 설정한다\n",
        "\n",
        "    # True Positive는 실제 값과 예측 값이 모두 1(Positive)인 경우이다\n",
        "    count_true_positive = K.sum(y_target_yn * y_pred_yn) \n",
        "\n",
        "    # (True Positive + False Positive) = 예측 값이 1(Positive) 전체\n",
        "    count_true_positive_false_positive = K.sum(y_pred_yn)\n",
        "\n",
        "    # Precision = (True Positive) / (True Positive + False Positive)\n",
        "    # K.epsilon()는 'divide by zero error' 예방차원에서 작은 수를 더한다\n",
        "    precision = count_true_positive / (count_true_positive_false_positive + K.epsilon())\n",
        "\n",
        "    # FP = y_pred_yn - (y_target_yn * y_pred_yn) \n",
        "    \n",
        "    # return a single tensor value\n",
        "    return precision\n",
        "\n",
        "\n",
        "def f1score(y_target, y_pred): # 2개 요소 실제값, 예측값 필요\n",
        "    _recall = recall(y_target, y_pred)\n",
        "    _precision = precision(y_target, y_pred)\n",
        "    # K.epsilon()는 'divide by zero error' 예방차원에서 작은 수를 더한다\n",
        "    _f1score = ( 2 * _recall * _precision) / (_recall + _precision+ K.epsilon())\n",
        "    \n",
        "    # return a single tensor value\n",
        "    return _f1score"
      ],
      "metadata": {
        "id": "CkUoJBvCNHBq"
      },
      "execution_count": 33,
      "outputs": []
    },
    {
      "cell_type": "code",
      "source": [
        "class AttentionLayer(Layer):  # Layer를 가져옴\n",
        "    def __init__(self, attention_dim, **kwargs): #  **kwargs : list가져올때 씀\n",
        "        self.attention_dim = attention_dim\n",
        "        super(AttentionLayer, self).__init__(**kwargs)  # attentionlayer의 속성을 가져옴\n",
        "    \n",
        "    def build(self, input_shape):  \n",
        "        self.W = self.add_weight(name='Attention_Weight', # attention 값 이값을 확인해야하는것 같음\n",
        "                                 shape=(input_shape[-1], self.attention_dim),\n",
        "                                 initializer='random_normal',\n",
        "                                 trainable=True)  # 학습가능\n",
        "        self.b = self.add_weight(name='Attention_Bias',\n",
        "                                 shape=(self.attention_dim, ), # attention값과 쌍을 이룸?\n",
        "                                 initializer='random_normal',\n",
        "                                 trainable=True)\n",
        "        self.u = self.add_weight(name='Attention_Context_Vector',  # u: context vector\n",
        "                                 shape=(self.attention_dim, 1),  # attention값과 쌍을 이룸?\n",
        "                                 initializer='random_normal',\n",
        "                                 trainable=True)\n",
        "        super(AttentionLayer, self).build(input_shape)\n",
        "        \n",
        "    def call(self, x):\n",
        "        # refer to the original paper\n",
        "        # link: https://www.cs.cmu.edu/~hovy/papers/16HLT-hierarchical-attention-networks.pdf\n",
        "        u_it = K.tanh(K.dot(x, self.W) + self.b) # hiddenlayer와의 계산\n",
        "        a_it = K.dot(u_it, self.u)  # a가 attention을 의미함 word attention이라고 볼 수 있음\n",
        "        a_it = K.squeeze(a_it, -1) # 일자형태로 만들기\n",
        "        a_it = K.softmax(a_it)  # softmax함수 적용 합이1이 되게함\n",
        "        \n",
        "        return a_it\n",
        "        \n",
        "    def compute_output_shape(self, input_shape):\n",
        "        return (input_shape[0], input_shape[1])\n",
        "\n",
        "    \n"
      ],
      "metadata": {
        "id": "0bpE5B-9_VVK"
      },
      "execution_count": 34,
      "outputs": []
    },
    {
      "cell_type": "code",
      "source": [
        "\n",
        "def WeightedSum(attentions, representations): # \n",
        "    # from Shape(batch_size, len_units) to Shape(batch_size, rnn_dim * 2, len_units)\n",
        "    repeated_attentions = RepeatVector(K.int_shape(representations)[-1])(attentions)\n",
        "    # from Shape(batch_size, rnn_dim * 2, len_units) to Shape(batch_size, len_units, lstm_dim * 2)\n",
        "    repeated_attentions = Permute([2, 1])(repeated_attentions)\n",
        "\n",
        "    # compute representation as the weighted sum of representations\n",
        "    aggregated_representation = Multiply()([representations, repeated_attentions])\n",
        "    aggregated_representation = Lambda(lambda x: K.sum(x, axis=1))(aggregated_representation)\n",
        "\n",
        "    return aggregated_representation # 합쳐진 representation\n",
        "    \n",
        "    \n",
        "def HieAtt(embedding_matrix,  # word2vec한 값\n",
        "           max_sentences, \n",
        "           max_sentence_length,\n",
        "           nb_classes,  # 클래스의 개수 여기서는 2개 \n",
        "           embedding_dim=300,  # 임베딩 차원 여기서는 300차원으로 변환시킴\n",
        "           attention_dim=100,\n",
        "           rnn_dim=150,\n",
        "           include_dense_batch_normalization=False,\n",
        "           include_dense_dropout=True,\n",
        "           nb_dense=1,\n",
        "           dense_dim=300,\n",
        "           dense_dropout=0.2,\n",
        "           optimizer = tf.keras.optimizers.Adam(lr=0.001)):\n",
        "    # Use tf.keras.optimizers.Adam(learning_rate) instead of keras.optimizers.Adam(learning_rate)\n",
        "\n",
        "    # embedding_matrix = (max_nb_words + 1, embedding_dim)\n",
        "    max_nb_words = embedding_matrix.shape[0] - 1  # 124253-1\n",
        "    embedding_layer = Embedding(max_nb_words + 1, \n",
        "                                embedding_dim,   \n",
        "                                weights=[embedding_matrix],\n",
        "                                input_length=max_sentence_length,     # input\n",
        "                                trainable=False)   # embedding한걸 다시 학습할 필요없음\n",
        "\n",
        "    # first, build a sentence encoder\n",
        "    sentence_input = Input(shape=(max_sentence_length, ), dtype='int32')\n",
        "    embedded_sentence = embedding_layer(sentence_input)   # sentence에 대한 임베딩 / sentence단위의 임베딩으로 한단계 위\n",
        "    embedded_sentence = Dropout(dense_dropout)(embedded_sentence)\n",
        "    contextualized_sentence = Bidirectional(GRU(rnn_dim, return_sequences=True))(embedded_sentence) # CuDNNGRU\n",
        "    # embedded sentence 를 bidirectional featrue2개가 생성되고 두개가 합쳐짐\n",
        "    \n",
        "    # word attention computation\n",
        "    word_attention = AttentionLayer(attention_dim)(contextualized_sentence)  # 위에서 설정한 attentionlayer함수사용\n",
        "    sentence_representation = WeightedSum(word_attention, contextualized_sentence)  # 위에서 설정한 weightedsum 함수사용\n",
        "    \n",
        "    sentence_encoder = Model(inputs=[sentence_input],   # from keras.models import Model,\n",
        "                             outputs=[sentence_representation])  # sentence를 벡터로 표현하는 과정\n",
        "\n",
        "    # then, build a document encoder (최종 아웃풋임)\n",
        "    document_input = Input(shape=(max_sentences, max_sentence_length), dtype='int32')\n",
        "    embedded_document = TimeDistributed(sentence_encoder)(document_input)\n",
        "    contextualized_document = Bidirectional(GRU(rnn_dim, return_sequences=True))(embedded_document)  # CuDNNGRU\n",
        "    # sentence를 이용해서 doc에 대한 representation v계산\n",
        "    \n",
        "    # sentence attention computation\n",
        "    sentence_attention = AttentionLayer(attention_dim)(contextualized_document)  \n",
        "    # 해당 코드에서 가장 중요한 부분 : sentence_attention  각 sentence별 attention값이 계산되는것을 확인\n",
        "    document_representation = WeightedSum(sentence_attention, contextualized_document)\n",
        "    # doc에 대해 하나로 표현가능한 vector값이 나오게됨\n",
        "\n",
        "    # 마지막 fc layer를 통해서 분류문제를 해결하고자 함\n",
        "    # finally, add fc layers for classification\n",
        "    fc_layers = Sequential()\n",
        "    for _ in range(nb_dense): # 클래스 수만큼 fc layer를 수행함\n",
        "        if include_dense_batch_normalization == True:  #  batch norm 을 한경우\n",
        "            fc_layers.add(BatchNormalization())\n",
        "        fc_layers.add(Dense(dense_dim, activation='relu'))\n",
        "        if include_dense_dropout == True:   # drop_out 을 한경우\n",
        "            fc_layers.add(Dropout(dense_dropout))\n",
        "    fc_layers.add(Dense(nb_classes, activation='softmax'))  # soft max \n",
        "    \n",
        "    pred_sentiment = fc_layers(document_representation) # 최종 결과값이라 볼 수 있음\n",
        "\n",
        "    model = Model(inputs=[document_input],\n",
        "                  outputs=[pred_sentiment])\n",
        "    \n",
        "    ############### build attention extractor ###############\n",
        "    word_attention_extractor = Model(inputs=[sentence_input],\n",
        "                                     outputs=[word_attention])\n",
        "    word_attentions = TimeDistributed(word_attention_extractor)(document_input)\n",
        "    attention_extractor = Model(inputs=[document_input],\n",
        "                                     outputs=[word_attentions, sentence_attention])\n",
        "    # 모델에 대한 마지막 정의\n",
        "    model.compile(loss=['categorical_crossentropy'],\n",
        "              optimizer=optimizer,\n",
        "              metrics=['accuracy'])\n",
        "\n",
        "    return model, attention_extractor, sentence_attention, word_attentions\n"
      ],
      "metadata": {
        "colab": {
          "base_uri": "https://localhost:8080/"
        },
        "id": "ta1-PGckjQVt",
        "outputId": "877481ba-4209-49b0-9682-e334c3400154"
      },
      "execution_count": 35,
      "outputs": [
        {
          "output_type": "stream",
          "name": "stderr",
          "text": [
            "/usr/local/lib/python3.7/dist-packages/keras/optimizer_v2/adam.py:105: UserWarning: The `lr` argument is deprecated, use `learning_rate` instead.\n",
            "  super(Adam, self).__init__(name, **kwargs)\n"
          ]
        }
      ]
    },
    {
      "cell_type": "code",
      "source": [
        "import os\n",
        "os.getcwd()"
      ],
      "metadata": {
        "colab": {
          "base_uri": "https://localhost:8080/",
          "height": 34
        },
        "id": "UN1j1dWcGTYH",
        "outputId": "4b0310a5-749a-42ce-a89d-973b8519f776"
      },
      "execution_count": 36,
      "outputs": [
        {
          "output_type": "execute_result",
          "data": {
            "application/vnd.google.colaboratory.intrinsic+json": {
              "type": "string"
            },
            "text/plain": [
              "'/content'"
            ]
          },
          "metadata": {},
          "execution_count": 36
        }
      ]
    },
    {
      "cell_type": "code",
      "source": [
        "model_name = \"HieAtt\"\n",
        "model_path = '/models/checkpoints/{}.h5'.format(model_name)\n",
        "checkpointer = ModelCheckpoint(filepath=model_path,\n",
        "                               monitor='val_acc',\n",
        "                               verbose=True,\n",
        "                               save_best_only=True,\n",
        "                               mode='max')\n",
        "\n",
        "model, attention_extractor, sentence_att, word_att = HieAtt(embedding_matrix=embedding_matrix,\n",
        "                                    max_sentences=MAX_SENTENCES,\n",
        "                                    max_sentence_length=MAX_SENTENCE_LENGTH,\n",
        "                                    nb_classes=2,\n",
        "                                    embedding_dim=300,\n",
        "                                    attention_dim=100,\n",
        "                                    rnn_dim=150,\n",
        "                                    include_dense_batch_normalization=False,\n",
        "                                    include_dense_dropout=True,\n",
        "                                    nb_dense=1,\n",
        "                                    dense_dim=300,\n",
        "                                    dense_dropout=0.2,\n",
        "                                    optimizer = tf.keras.optimizers.Adam(lr=0.001)\n",
        "                                    )\n"
      ],
      "metadata": {
        "colab": {
          "base_uri": "https://localhost:8080/"
        },
        "id": "owsfhXOzeYmP",
        "outputId": "b4f8cfcb-0b12-41fc-a7dc-4e5aecb71647"
      },
      "execution_count": 37,
      "outputs": [
        {
          "output_type": "stream",
          "name": "stderr",
          "text": [
            "/usr/local/lib/python3.7/dist-packages/keras/optimizer_v2/adam.py:105: UserWarning: The `lr` argument is deprecated, use `learning_rate` instead.\n",
            "  super(Adam, self).__init__(name, **kwargs)\n"
          ]
        }
      ]
    },
    {
      "cell_type": "code",
      "source": [
        "model"
      ],
      "metadata": {
        "colab": {
          "base_uri": "https://localhost:8080/"
        },
        "id": "McMr1wV-HnSy",
        "outputId": "e94d382d-a7a7-4a34-9065-618f8706debe"
      },
      "execution_count": 38,
      "outputs": [
        {
          "output_type": "execute_result",
          "data": {
            "text/plain": [
              "<keras.engine.functional.Functional at 0x7f24410dca10>"
            ]
          },
          "metadata": {},
          "execution_count": 38
        }
      ]
    },
    {
      "cell_type": "code",
      "source": [
        "model.summary()  # OUTPUT SHAPE를 확인 가능"
      ],
      "metadata": {
        "colab": {
          "base_uri": "https://localhost:8080/"
        },
        "id": "9VJni7kJQOPH",
        "outputId": "0977360e-6add-4287-9eba-8c1b188548a8"
      },
      "execution_count": 39,
      "outputs": [
        {
          "output_type": "stream",
          "name": "stdout",
          "text": [
            "Model: \"model_1\"\n",
            "__________________________________________________________________________________________________\n",
            " Layer (type)                   Output Shape         Param #     Connected to                     \n",
            "==================================================================================================\n",
            " input_2 (InputLayer)           [(None, 10, 25)]     0           []                               \n",
            "                                                                                                  \n",
            " time_distributed (TimeDistribu  (None, 10, 300)     37712900    ['input_2[0][0]']                \n",
            " ted)                                                                                             \n",
            "                                                                                                  \n",
            " bidirectional_1 (Bidirectional  (None, 10, 300)     406800      ['time_distributed[0][0]']       \n",
            " )                                                                                                \n",
            "                                                                                                  \n",
            " attention_layer_1 (AttentionLa  (None, 10)          30200       ['bidirectional_1[0][0]']        \n",
            " yer)                                                                                             \n",
            "                                                                                                  \n",
            " repeat_vector_1 (RepeatVector)  (None, 300, 10)     0           ['attention_layer_1[0][0]']      \n",
            "                                                                                                  \n",
            " permute_1 (Permute)            (None, 10, 300)      0           ['repeat_vector_1[0][0]']        \n",
            "                                                                                                  \n",
            " multiply_1 (Multiply)          (None, 10, 300)      0           ['bidirectional_1[0][0]',        \n",
            "                                                                  'permute_1[0][0]']              \n",
            "                                                                                                  \n",
            " lambda_1 (Lambda)              (None, 300)          0           ['multiply_1[0][0]']             \n",
            "                                                                                                  \n",
            " sequential (Sequential)        (None, 2)            90902       ['lambda_1[0][0]']               \n",
            "                                                                                                  \n",
            "==================================================================================================\n",
            "Total params: 38,240,802\n",
            "Trainable params: 964,902\n",
            "Non-trainable params: 37,275,900\n",
            "__________________________________________________________________________________________________\n"
          ]
        }
      ]
    },
    {
      "cell_type": "code",
      "source": [
        "attention_extractor"
      ],
      "metadata": {
        "colab": {
          "base_uri": "https://localhost:8080/"
        },
        "id": "pYqw1Dt9IJfg",
        "outputId": "ac80e1ee-6c5d-4ecf-cb14-2f2f3f6c9429"
      },
      "execution_count": null,
      "outputs": [
        {
          "output_type": "execute_result",
          "data": {
            "text/plain": [
              "<keras.engine.functional.Functional at 0x7f5f6b738a10>"
            ]
          },
          "metadata": {},
          "execution_count": 79
        }
      ]
    },
    {
      "cell_type": "code",
      "source": [
        "x=[train_X_data];type(x)"
      ],
      "metadata": {
        "colab": {
          "base_uri": "https://localhost:8080/"
        },
        "id": "8LeJjEp9KLKK",
        "outputId": "49190f6f-c3d9-4f8d-a9b4-95cac825b020"
      },
      "execution_count": null,
      "outputs": [
        {
          "output_type": "execute_result",
          "data": {
            "text/plain": [
              "list"
            ]
          },
          "metadata": {},
          "execution_count": 80
        }
      ]
    },
    {
      "cell_type": "code",
      "source": [
        "y=[train_Y_data]; type(y)"
      ],
      "metadata": {
        "colab": {
          "base_uri": "https://localhost:8080/"
        },
        "id": "OAWsT5QMKL0m",
        "outputId": "815a8b22-1c0a-48e8-e33c-4d84107479b3"
      },
      "execution_count": null,
      "outputs": [
        {
          "output_type": "execute_result",
          "data": {
            "text/plain": [
              "list"
            ]
          },
          "metadata": {},
          "execution_count": 81
        }
      ]
    },
    {
      "cell_type": "code",
      "source": [
        "validation_data=(val_X_data, val_Y_data) ;type(validation_data) # TUPLE"
      ],
      "metadata": {
        "colab": {
          "base_uri": "https://localhost:8080/"
        },
        "id": "2xKcx-nhKVUB",
        "outputId": "980bdfc5-41c7-4d18-dfc8-75b206e686c8"
      },
      "execution_count": null,
      "outputs": [
        {
          "output_type": "execute_result",
          "data": {
            "text/plain": [
              "tuple"
            ]
          },
          "metadata": {},
          "execution_count": 82
        }
      ]
    },
    {
      "cell_type": "code",
      "source": [
        "validation_data=[val_X_data, val_Y_data] ;type(validation_data) # LIST "
      ],
      "metadata": {
        "colab": {
          "base_uri": "https://localhost:8080/"
        },
        "id": "rGIJ36t_SWTe",
        "outputId": "383ef5aa-586c-4ec5-a57c-b81813f9d2ba"
      },
      "execution_count": null,
      "outputs": [
        {
          "output_type": "execute_result",
          "data": {
            "text/plain": [
              "list"
            ]
          },
          "metadata": {},
          "execution_count": 83
        }
      ]
    },
    {
      "cell_type": "code",
      "source": [
        "# 실제 데이터에 적용하는 과정\n",
        "# Hyperparameter\n",
        "max_sentences = 35\n",
        "max_sentence_length = 10  # maxlen이랑 같음\n",
        "# 사전에서 단어 수(embedding layer에서 사용)\n",
        "max_nb_words = len(tokenizer.word_index) + 1\n",
        "\n",
        "early_stop = EarlyStopping(monitor='val_loss', patience=10)\n",
        "import gc\n",
        "gc.collect()"
      ],
      "metadata": {
        "colab": {
          "base_uri": "https://localhost:8080/"
        },
        "id": "h-EpZMJYGqtc",
        "outputId": "9c2de239-e437-4672-bb00-07b787546556"
      },
      "execution_count": 40,
      "outputs": [
        {
          "output_type": "execute_result",
          "data": {
            "text/plain": [
              "37541"
            ]
          },
          "metadata": {},
          "execution_count": 40
        }
      ]
    },
    {
      "cell_type": "code",
      "source": [
        "train_X_data.shape"
      ],
      "metadata": {
        "colab": {
          "base_uri": "https://localhost:8080/"
        },
        "id": "vtfzXfbEWxee",
        "outputId": "c1438af8-46c4-4932-d62e-4489d472a31b"
      },
      "execution_count": null,
      "outputs": [
        {
          "output_type": "execute_result",
          "data": {
            "text/plain": [
              "(22500, 10, 25)"
            ]
          },
          "metadata": {},
          "execution_count": 85
        }
      ]
    },
    {
      "cell_type": "code",
      "source": [
        "type(train_X_data)"
      ],
      "metadata": {
        "colab": {
          "base_uri": "https://localhost:8080/"
        },
        "id": "EtmqDpc6W0jm",
        "outputId": "3b0b5b8b-cb29-4b7a-868a-7979d192224a"
      },
      "execution_count": null,
      "outputs": [
        {
          "output_type": "execute_result",
          "data": {
            "text/plain": [
              "numpy.ndarray"
            ]
          },
          "metadata": {},
          "execution_count": 86
        }
      ]
    },
    {
      "cell_type": "code",
      "source": [
        "val_X_data.shape"
      ],
      "metadata": {
        "colab": {
          "base_uri": "https://localhost:8080/"
        },
        "id": "JbD85ES1W2kF",
        "outputId": "108ead7e-0193-439d-c8a7-cba8c55bac09"
      },
      "execution_count": null,
      "outputs": [
        {
          "output_type": "execute_result",
          "data": {
            "text/plain": [
              "(2500, 10, 25)"
            ]
          },
          "metadata": {},
          "execution_count": 87
        }
      ]
    },
    {
      "cell_type": "code",
      "source": [
        "type(val_X_data)"
      ],
      "metadata": {
        "colab": {
          "base_uri": "https://localhost:8080/"
        },
        "id": "vf2JAJKVW58V",
        "outputId": "9bb3c2e9-698d-4f24-fc06-5c17126ff6e0"
      },
      "execution_count": null,
      "outputs": [
        {
          "output_type": "execute_result",
          "data": {
            "text/plain": [
              "numpy.ndarray"
            ]
          },
          "metadata": {},
          "execution_count": 88
        }
      ]
    },
    {
      "cell_type": "code",
      "source": [
        "history = model.fit(x=train_X_data,  # x : list\n",
        "                    y=train_Y_data,  # y: list\n",
        "                    batch_size=128,\n",
        "                    epochs=30,\n",
        "                    verbose=True,\n",
        "                    validation_data=(val_X_data, val_Y_data)  # tuple , 'NoneType' object is not callable\n",
        "                    ,callbacks=[early_stop]\n",
        "                    )\n",
        "                    #,callbacks=[early_stop])\n",
        "\n",
        "\n",
        "# error\n",
        "# def _fixup_shape(images, labels):\n",
        "#    images.set_shape([None, 15, 256, 256, 3])\n",
        "#    labels.set_shape([None, 12])\n",
        "#    return images, labels\n",
        "# as_list() is not defined on an unknown tensorshape\n",
        "\n"
      ],
      "metadata": {
        "colab": {
          "base_uri": "https://localhost:8080/"
        },
        "id": "jND3x0w8P64X",
        "outputId": "c82f9c16-36f9-4513-b1f3-0022c5380526"
      },
      "execution_count": 41,
      "outputs": [
        {
          "output_type": "stream",
          "name": "stdout",
          "text": [
            "Epoch 1/30\n",
            "176/176 [==============================] - 20s 49ms/step - loss: 0.5180 - accuracy: 0.7300 - val_loss: 0.4111 - val_accuracy: 0.8224\n",
            "Epoch 2/30\n",
            "176/176 [==============================] - 7s 39ms/step - loss: 0.3749 - accuracy: 0.8321 - val_loss: 0.3676 - val_accuracy: 0.8436\n",
            "Epoch 3/30\n",
            "176/176 [==============================] - 7s 39ms/step - loss: 0.3361 - accuracy: 0.8548 - val_loss: 0.3361 - val_accuracy: 0.8548\n",
            "Epoch 4/30\n",
            "176/176 [==============================] - 7s 39ms/step - loss: 0.3136 - accuracy: 0.8660 - val_loss: 0.3336 - val_accuracy: 0.8576\n",
            "Epoch 5/30\n",
            "176/176 [==============================] - 7s 39ms/step - loss: 0.2971 - accuracy: 0.8730 - val_loss: 0.3342 - val_accuracy: 0.8612\n",
            "Epoch 6/30\n",
            "176/176 [==============================] - 7s 39ms/step - loss: 0.2793 - accuracy: 0.8842 - val_loss: 0.3534 - val_accuracy: 0.8504\n",
            "Epoch 7/30\n",
            "176/176 [==============================] - 7s 39ms/step - loss: 0.2612 - accuracy: 0.8908 - val_loss: 0.3249 - val_accuracy: 0.8640\n",
            "Epoch 8/30\n",
            "176/176 [==============================] - 7s 39ms/step - loss: 0.2428 - accuracy: 0.9008 - val_loss: 0.3316 - val_accuracy: 0.8672\n",
            "Epoch 9/30\n",
            "176/176 [==============================] - 7s 39ms/step - loss: 0.2199 - accuracy: 0.9112 - val_loss: 0.3245 - val_accuracy: 0.8612\n",
            "Epoch 10/30\n",
            "176/176 [==============================] - 7s 39ms/step - loss: 0.1992 - accuracy: 0.9204 - val_loss: 0.3806 - val_accuracy: 0.8612\n",
            "Epoch 11/30\n",
            "176/176 [==============================] - 7s 39ms/step - loss: 0.1817 - accuracy: 0.9272 - val_loss: 0.3764 - val_accuracy: 0.8652\n",
            "Epoch 12/30\n",
            "176/176 [==============================] - 7s 39ms/step - loss: 0.1632 - accuracy: 0.9343 - val_loss: 0.3632 - val_accuracy: 0.8700\n",
            "Epoch 13/30\n",
            "176/176 [==============================] - 7s 39ms/step - loss: 0.1407 - accuracy: 0.9454 - val_loss: 0.4362 - val_accuracy: 0.8496\n",
            "Epoch 14/30\n",
            "176/176 [==============================] - 7s 39ms/step - loss: 0.1269 - accuracy: 0.9509 - val_loss: 0.4607 - val_accuracy: 0.8648\n",
            "Epoch 15/30\n",
            "176/176 [==============================] - 7s 39ms/step - loss: 0.1113 - accuracy: 0.9573 - val_loss: 0.4601 - val_accuracy: 0.8528\n",
            "Epoch 16/30\n",
            "176/176 [==============================] - 7s 39ms/step - loss: 0.1003 - accuracy: 0.9618 - val_loss: 0.4542 - val_accuracy: 0.8548\n",
            "Epoch 17/30\n",
            "176/176 [==============================] - 7s 39ms/step - loss: 0.0869 - accuracy: 0.9668 - val_loss: 0.4416 - val_accuracy: 0.8680\n",
            "Epoch 18/30\n",
            "176/176 [==============================] - 7s 39ms/step - loss: 0.0748 - accuracy: 0.9717 - val_loss: 0.4839 - val_accuracy: 0.8684\n",
            "Epoch 19/30\n",
            "176/176 [==============================] - 7s 39ms/step - loss: 0.0654 - accuracy: 0.9741 - val_loss: 0.5389 - val_accuracy: 0.8676\n"
          ]
        }
      ]
    },
    {
      "cell_type": "code",
      "source": [
        "print(sentence_att)"
      ],
      "metadata": {
        "colab": {
          "base_uri": "https://localhost:8080/"
        },
        "id": "JLq6AdLvX2e0",
        "outputId": "8039e0c1-42dd-4742-94d2-e981e517a0d6"
      },
      "execution_count": 179,
      "outputs": [
        {
          "output_type": "stream",
          "name": "stdout",
          "text": [
            "KerasTensor(type_spec=TensorSpec(shape=(None, 10), dtype=tf.float32, name=None), name='attention_layer_24/Softmax:0', description=\"created by layer 'attention_layer_24'\")\n"
          ]
        }
      ]
    },
    {
      "cell_type": "code",
      "source": [
        "print(word_att)"
      ],
      "metadata": {
        "colab": {
          "base_uri": "https://localhost:8080/"
        },
        "id": "bRuA7QbjKqKj",
        "outputId": "d3bdba6c-6383-4afc-c990-653a00b18bef"
      },
      "execution_count": 180,
      "outputs": [
        {
          "output_type": "stream",
          "name": "stdout",
          "text": [
            "KerasTensor(type_spec=TensorSpec(shape=(None, 10, 25), dtype=tf.float32, name=None), name='time_distributed_24/Reshape_1:0', description=\"created by layer 'time_distributed_24'\")\n"
          ]
        },
        {
          "output_type": "stream",
          "name": "stderr",
          "text": [
            "Exception ignored in: 'zmq.backend.cython.message.Frame.__dealloc__'\n",
            "Traceback (most recent call last):\n",
            "  File \"zmq/backend/cython/checkrc.pxd\", line 13, in zmq.backend.cython.checkrc._check_rc\n",
            "KeyboardInterrupt\n"
          ]
        }
      ]
    },
    {
      "cell_type": "code",
      "source": [
        "#model.load_weights(model_path)\n",
        "score = model.evaluate(test_X_data, test_Y_data, verbose=0, batch_size=128)\n",
        "print(\"Test Accuracy of {}: {}\".format(model_name, score[1]))"
      ],
      "metadata": {
        "id": "eimpQWvt_VYo",
        "colab": {
          "base_uri": "https://localhost:8080/"
        },
        "outputId": "f91d460f-df98-433b-c6aa-64e07bc353a7"
      },
      "execution_count": 181,
      "outputs": [
        {
          "output_type": "stream",
          "name": "stdout",
          "text": [
            "Test Accuracy of HieAtt: 0.8552799820899963\n"
          ]
        }
      ]
    },
    {
      "cell_type": "code",
      "source": [
        "import matplotlib.pyplot as plt\n",
        "\n",
        "history_dict = history.history\n",
        "loss = history_dict['loss']\n",
        "val_loss = history_dict['val_loss']\n",
        "\n",
        "epochs = range(1, len(loss) + 1)\n",
        "\n",
        "plt.plot(epochs, loss, 'bo', label='Training loss')\n",
        "plt.plot(epochs, val_loss, 'b', label='Validation loss')\n",
        "plt.title('Training and validation loss')\n",
        "plt.xlabel('Epochs')\n",
        "plt.ylabel('Loss')\n",
        "plt.legend()\n",
        "\n",
        "plt.show()"
      ],
      "metadata": {
        "id": "B4GLYO136SkS",
        "colab": {
          "base_uri": "https://localhost:8080/",
          "height": 294
        },
        "outputId": "702e30ea-89cc-4f3e-97da-370b5604e6cb"
      },
      "execution_count": null,
      "outputs": [
        {
          "output_type": "display_data",
          "data": {
            "image/png": "[encoded data removed]",
            "text/plain": [
              "<Figure size 432x288 with 1 Axes>"
            ]
          },
          "metadata": {
            "needs_background": "light"
          }
        }
      ]
    },
    {
      "cell_type": "code",
      "source": [
        "plt.clf()\n",
        "acc = history_dict['accuracy']\n",
        "val_acc = history_dict['val_accuracy']\n",
        "\n",
        "epochs = range(1, len(loss) + 1)\n",
        "\n",
        "plt.plot(epochs, acc, 'bo', label='Training acc')\n",
        "plt.plot(epochs, val_acc, 'b', label='Validation acc')\n",
        "plt.title('Training and validation accuracy')\n",
        "plt.xlabel('Epochs')\n",
        "plt.ylabel('Accuracy')\n",
        "plt.legend()\n",
        "\n",
        "plt.show()"
      ],
      "metadata": {
        "id": "q83837Y4_dhm",
        "colab": {
          "base_uri": "https://localhost:8080/",
          "height": 294
        },
        "outputId": "89909e44-3bf3-493b-c484-e34f4f8e1b02"
      },
      "execution_count": null,
      "outputs": [
        {
          "output_type": "display_data",
          "data": {
            "image/png": "[encoded data removed]",
            "text/plain": [
              "<Figure size 432x288 with 1 Axes>"
            ]
          },
          "metadata": {
            "needs_background": "light"
          }
        }
      ]
    },
    {
      "cell_type": "code",
      "source": [
        "model.summary()"
      ],
      "metadata": {
        "id": "GTsqYBoB_dkj",
        "colab": {
          "base_uri": "https://localhost:8080/"
        },
        "outputId": "0e0cf77b-53cd-438e-e6ab-70c5f653a4cd"
      },
      "execution_count": null,
      "outputs": [
        {
          "output_type": "stream",
          "name": "stdout",
          "text": [
            "Model: \"model_9\"\n",
            "__________________________________________________________________________________________________\n",
            " Layer (type)                   Output Shape         Param #     Connected to                     \n",
            "==================================================================================================\n",
            " input_6 (InputLayer)           [(None, 10, 25)]     0           []                               \n",
            "                                                                                                  \n",
            " time_distributed_4 (TimeDistri  (None, 10, 300)     37712900    ['input_6[0][0]']                \n",
            " buted)                                                                                           \n",
            "                                                                                                  \n",
            " bidirectional_5 (Bidirectional  (None, 10, 300)     406800      ['time_distributed_4[0][0]']     \n",
            " )                                                                                                \n",
            "                                                                                                  \n",
            " attention_layer_5 (AttentionLa  (None, 10)          30200       ['bidirectional_5[0][0]']        \n",
            " yer)                                                                                             \n",
            "                                                                                                  \n",
            " repeat_vector_5 (RepeatVector)  (None, 300, 10)     0           ['attention_layer_5[0][0]']      \n",
            "                                                                                                  \n",
            " permute_5 (Permute)            (None, 10, 300)      0           ['repeat_vector_5[0][0]']        \n",
            "                                                                                                  \n",
            " multiply_5 (Multiply)          (None, 10, 300)      0           ['bidirectional_5[0][0]',        \n",
            "                                                                  'permute_5[0][0]']              \n",
            "                                                                                                  \n",
            " lambda_5 (Lambda)              (None, 300)          0           ['multiply_5[0][0]']             \n",
            "                                                                                                  \n",
            " sequential_2 (Sequential)      (None, 2)            90902       ['lambda_5[0][0]']               \n",
            "                                                                                                  \n",
            "==================================================================================================\n",
            "Total params: 38,240,802\n",
            "Trainable params: 964,902\n",
            "Non-trainable params: 37,275,900\n",
            "__________________________________________________________________________________________________\n"
          ]
        }
      ]
    },
    {
      "cell_type": "code",
      "source": [
        "import seaborn as sn\n",
        "\n",
        "word_rev_index = {}\n",
        "for word, i in tokenizer.word_index.items():\n",
        "    word_rev_index[i] = word\n"
      ],
      "metadata": {
        "id": "376HU-uc_dnV"
      },
      "execution_count": 43,
      "outputs": []
    },
    {
      "cell_type": "code",
      "source": [
        "word_rev_index"
      ],
      "metadata": {
        "colab": {
          "base_uri": "https://localhost:8080/"
        },
        "id": "2dx_hxcsYr32",
        "outputId": "efc7b458-d486-4e73-acd4-32c672315f36"
      },
      "execution_count": null,
      "outputs": [
        {
          "output_type": "execute_result",
          "data": {
            "text/plain": [
              "{1: 'the',\n",
              " 2: 'and',\n",
              " 3: 'a',\n",
              " 4: 'of',\n",
              " 5: 'to',\n",
              " 6: 'is',\n",
              " 7: 'br',\n",
              " 8: 'in',\n",
              " 9: 'it',\n",
              " 10: 'i',\n",
              " 11: 'this',\n",
              " 12: 'that',\n",
              " 13: 'was',\n",
              " 14: 'as',\n",
              " 15: 'for',\n",
              " 16: 'with',\n",
              " 17: 'movie',\n",
              " 18: 'but',\n",
              " 19: 'film',\n",
              " 20: 'on',\n",
              " 21: 'not',\n",
              " 22: 'you',\n",
              " 23: 'are',\n",
              " 24: 'his',\n",
              " 25: 'have',\n",
              " 26: 'be',\n",
              " 27: 'one',\n",
              " 28: 'he',\n",
              " 29: 'all',\n",
              " 30: 'at',\n",
              " 31: 'by',\n",
              " 32: 'an',\n",
              " 33: 'they',\n",
              " 34: 'so',\n",
              " 35: 'who',\n",
              " 36: 'from',\n",
              " 37: 'like',\n",
              " 38: 'or',\n",
              " 39: 'just',\n",
              " 40: 'her',\n",
              " 41: 'out',\n",
              " 42: 'about',\n",
              " 43: 'if',\n",
              " 44: \"it's\",\n",
              " 45: 'has',\n",
              " 46: 'there',\n",
              " 47: 'some',\n",
              " 48: 'what',\n",
              " 49: 'good',\n",
              " 50: 'when',\n",
              " 51: 'more',\n",
              " 52: 'very',\n",
              " 53: 'up',\n",
              " 54: 'no',\n",
              " 55: 'time',\n",
              " 56: 'my',\n",
              " 57: 'even',\n",
              " 58: 'would',\n",
              " 59: 'she',\n",
              " 60: 'which',\n",
              " 61: 'only',\n",
              " 62: 'really',\n",
              " 63: 'see',\n",
              " 64: 'story',\n",
              " 65: 'their',\n",
              " 66: 'had',\n",
              " 67: 'can',\n",
              " 68: 'me',\n",
              " 69: 'well',\n",
              " 70: 'were',\n",
              " 71: 'than',\n",
              " 72: 'much',\n",
              " 73: 'we',\n",
              " 74: 'bad',\n",
              " 75: 'been',\n",
              " 76: 'get',\n",
              " 77: 'do',\n",
              " 78: 'great',\n",
              " 79: 'other',\n",
              " 80: 'will',\n",
              " 81: 'also',\n",
              " 82: 'into',\n",
              " 83: 'people',\n",
              " 84: 'because',\n",
              " 85: 'how',\n",
              " 86: 'first',\n",
              " 87: 'him',\n",
              " 88: 'most',\n",
              " 89: \"don't\",\n",
              " 90: 'made',\n",
              " 91: 'then',\n",
              " 92: 'its',\n",
              " 93: 'them',\n",
              " 94: 'make',\n",
              " 95: 'way',\n",
              " 96: 'too',\n",
              " 97: 'movies',\n",
              " 98: 'could',\n",
              " 99: 'any',\n",
              " 100: 'after',\n",
              " 101: 'think',\n",
              " 102: 'characters',\n",
              " 103: 'watch',\n",
              " 104: 'films',\n",
              " 105: 'two',\n",
              " 106: 'many',\n",
              " 107: 'seen',\n",
              " 108: 'character',\n",
              " 109: 'being',\n",
              " 110: 'never',\n",
              " 111: 'plot',\n",
              " 112: 'love',\n",
              " 113: 'acting',\n",
              " 114: 'life',\n",
              " 115: 'did',\n",
              " 116: 'best',\n",
              " 117: 'where',\n",
              " 118: 'know',\n",
              " 119: 'show',\n",
              " 120: 'little',\n",
              " 121: 'over',\n",
              " 122: 'off',\n",
              " 123: 'ever',\n",
              " 124: 'does',\n",
              " 125: 'your',\n",
              " 126: 'better',\n",
              " 127: 'end',\n",
              " 128: 'man',\n",
              " 129: 'scene',\n",
              " 130: 'still',\n",
              " 131: 'say',\n",
              " 132: 'these',\n",
              " 133: 'here',\n",
              " 134: 'why',\n",
              " 135: 'scenes',\n",
              " 136: 'while',\n",
              " 137: 'something',\n",
              " 138: 'such',\n",
              " 139: 'go',\n",
              " 140: 'through',\n",
              " 141: 'back',\n",
              " 142: 'should',\n",
              " 143: 'those',\n",
              " 144: 'real',\n",
              " 145: \"i'm\",\n",
              " 146: 'now',\n",
              " 147: 'watching',\n",
              " 148: 'thing',\n",
              " 149: \"doesn't\",\n",
              " 150: 'actors',\n",
              " 151: 'though',\n",
              " 152: 'funny',\n",
              " 153: 'years',\n",
              " 154: \"didn't\",\n",
              " 155: 'old',\n",
              " 156: 'another',\n",
              " 157: '10',\n",
              " 158: 'work',\n",
              " 159: 'before',\n",
              " 160: 'actually',\n",
              " 161: 'nothing',\n",
              " 162: 'makes',\n",
              " 163: 'look',\n",
              " 164: 'director',\n",
              " 165: 'find',\n",
              " 166: 'going',\n",
              " 167: 'same',\n",
              " 168: 'new',\n",
              " 169: 'lot',\n",
              " 170: 'every',\n",
              " 171: 'few',\n",
              " 172: 'again',\n",
              " 173: 'part',\n",
              " 174: 'cast',\n",
              " 175: 'down',\n",
              " 176: 'us',\n",
              " 177: 'things',\n",
              " 178: 'want',\n",
              " 179: 'quite',\n",
              " 180: 'pretty',\n",
              " 181: 'world',\n",
              " 182: 'horror',\n",
              " 183: 'around',\n",
              " 184: 'seems',\n",
              " 185: \"can't\",\n",
              " 186: 'young',\n",
              " 187: 'take',\n",
              " 188: 'however',\n",
              " 189: 'got',\n",
              " 190: 'thought',\n",
              " 191: 'big',\n",
              " 192: 'fact',\n",
              " 193: 'enough',\n",
              " 194: 'long',\n",
              " 195: 'both',\n",
              " 196: \"that's\",\n",
              " 197: 'give',\n",
              " 198: \"i've\",\n",
              " 199: 'own',\n",
              " 200: 'may',\n",
              " 201: 'between',\n",
              " 202: 'comedy',\n",
              " 203: 'right',\n",
              " 204: 'series',\n",
              " 205: 'action',\n",
              " 206: 'must',\n",
              " 207: 'music',\n",
              " 208: 'without',\n",
              " 209: 'times',\n",
              " 210: 'saw',\n",
              " 211: 'always',\n",
              " 212: 'original',\n",
              " 213: \"isn't\",\n",
              " 214: 'role',\n",
              " 215: 'come',\n",
              " 216: 'almost',\n",
              " 217: 'gets',\n",
              " 218: 'interesting',\n",
              " 219: 'guy',\n",
              " 220: 'point',\n",
              " 221: 'done',\n",
              " 222: \"there's\",\n",
              " 223: 'whole',\n",
              " 224: 'least',\n",
              " 225: 'far',\n",
              " 226: 'bit',\n",
              " 227: 'script',\n",
              " 228: 'minutes',\n",
              " 229: 'feel',\n",
              " 230: '2',\n",
              " 231: 'anything',\n",
              " 232: 'making',\n",
              " 233: 'might',\n",
              " 234: 'since',\n",
              " 235: 'am',\n",
              " 236: 'family',\n",
              " 237: \"he's\",\n",
              " 238: 'last',\n",
              " 239: 'probably',\n",
              " 240: 'tv',\n",
              " 241: 'performance',\n",
              " 242: 'kind',\n",
              " 243: 'away',\n",
              " 244: 'yet',\n",
              " 245: 'fun',\n",
              " 246: 'worst',\n",
              " 247: 'sure',\n",
              " 248: 'rather',\n",
              " 249: 'hard',\n",
              " 250: 'anyone',\n",
              " 251: 'girl',\n",
              " 252: 'each',\n",
              " 253: 'played',\n",
              " 254: 'day',\n",
              " 255: 'found',\n",
              " 256: 'looking',\n",
              " 257: 'woman',\n",
              " 258: 'screen',\n",
              " 259: 'although',\n",
              " 260: 'our',\n",
              " 261: 'especially',\n",
              " 262: 'believe',\n",
              " 263: 'having',\n",
              " 264: 'trying',\n",
              " 265: 'course',\n",
              " 266: 'dvd',\n",
              " 267: 'everything',\n",
              " 268: 'set',\n",
              " 269: 'goes',\n",
              " 270: 'comes',\n",
              " 271: 'put',\n",
              " 272: 'ending',\n",
              " 273: 'maybe',\n",
              " 274: 'place',\n",
              " 275: 'book',\n",
              " 276: 'shows',\n",
              " 277: 'three',\n",
              " 278: 'worth',\n",
              " 279: 'different',\n",
              " 280: 'main',\n",
              " 281: 'once',\n",
              " 282: 'sense',\n",
              " 283: 'american',\n",
              " 284: 'reason',\n",
              " 285: 'looks',\n",
              " 286: 'effects',\n",
              " 287: 'watched',\n",
              " 288: 'play',\n",
              " 289: 'true',\n",
              " 290: 'money',\n",
              " 291: 'actor',\n",
              " 292: \"wasn't\",\n",
              " 293: 'job',\n",
              " 294: 'together',\n",
              " 295: 'war',\n",
              " 296: 'someone',\n",
              " 297: 'plays',\n",
              " 298: 'instead',\n",
              " 299: 'high',\n",
              " 300: 'during',\n",
              " 301: 'year',\n",
              " 302: 'said',\n",
              " 303: 'half',\n",
              " 304: 'everyone',\n",
              " 305: 'later',\n",
              " 306: 'takes',\n",
              " 307: '1',\n",
              " 308: 'seem',\n",
              " 309: 'audience',\n",
              " 310: 'special',\n",
              " 311: 'beautiful',\n",
              " 312: 'left',\n",
              " 313: 'himself',\n",
              " 314: 'seeing',\n",
              " 315: 'john',\n",
              " 316: 'night',\n",
              " 317: 'black',\n",
              " 318: 'version',\n",
              " 319: 'shot',\n",
              " 320: 'excellent',\n",
              " 321: 'idea',\n",
              " 322: 'house',\n",
              " 323: 'mind',\n",
              " 324: 'star',\n",
              " 325: 'wife',\n",
              " 326: 'fan',\n",
              " 327: 'death',\n",
              " 328: 'used',\n",
              " 329: 'else',\n",
              " 330: 'simply',\n",
              " 331: 'nice',\n",
              " 332: 'budget',\n",
              " 333: 'poor',\n",
              " 334: 'short',\n",
              " 335: 'completely',\n",
              " 336: 'second',\n",
              " 337: \"you're\",\n",
              " 338: '3',\n",
              " 339: 'read',\n",
              " 340: 'less',\n",
              " 341: 'along',\n",
              " 342: 'top',\n",
              " 343: 'help',\n",
              " 344: 'home',\n",
              " 345: 'men',\n",
              " 346: 'either',\n",
              " 347: 'line',\n",
              " 348: 'boring',\n",
              " 349: 'dead',\n",
              " 350: 'friends',\n",
              " 351: 'kids',\n",
              " 352: 'try',\n",
              " 353: 'production',\n",
              " 354: 'enjoy',\n",
              " 355: 'camera',\n",
              " 356: 'wrong',\n",
              " 357: 'use',\n",
              " 358: 'given',\n",
              " 359: 'low',\n",
              " 360: 'classic',\n",
              " 361: 'father',\n",
              " 362: 'need',\n",
              " 363: 'full',\n",
              " 364: 'stupid',\n",
              " 365: 'next',\n",
              " 366: 'until',\n",
              " 367: 'performances',\n",
              " 368: 'school',\n",
              " 369: 'hollywood',\n",
              " 370: 'rest',\n",
              " 371: 'truly',\n",
              " 372: 'awful',\n",
              " 373: 'video',\n",
              " 374: 'couple',\n",
              " 375: 'start',\n",
              " 376: 'sex',\n",
              " 377: 'recommend',\n",
              " 378: 'women',\n",
              " 379: 'let',\n",
              " 380: 'tell',\n",
              " 381: 'terrible',\n",
              " 382: 'remember',\n",
              " 383: 'mean',\n",
              " 384: 'came',\n",
              " 385: 'getting',\n",
              " 386: 'understand',\n",
              " 387: 'perhaps',\n",
              " 388: 'moments',\n",
              " 389: 'name',\n",
              " 390: 'keep',\n",
              " 391: 'face',\n",
              " 392: 'itself',\n",
              " 393: 'wonderful',\n",
              " 394: 'playing',\n",
              " 395: 'human',\n",
              " 396: 'style',\n",
              " 397: 'small',\n",
              " 398: 'episode',\n",
              " 399: 'perfect',\n",
              " 400: 'others',\n",
              " 401: 'person',\n",
              " 402: 'doing',\n",
              " 403: 'often',\n",
              " 404: 'early',\n",
              " 405: 'stars',\n",
              " 406: 'definitely',\n",
              " 407: 'written',\n",
              " 408: 'head',\n",
              " 409: 'lines',\n",
              " 410: 'dialogue',\n",
              " 411: 'gives',\n",
              " 412: 'piece',\n",
              " 413: \"couldn't\",\n",
              " 414: 'went',\n",
              " 415: 'finally',\n",
              " 416: 'mother',\n",
              " 417: 'case',\n",
              " 418: 'title',\n",
              " 419: 'absolutely',\n",
              " 420: 'boy',\n",
              " 421: 'live',\n",
              " 422: 'yes',\n",
              " 423: 'laugh',\n",
              " 424: 'certainly',\n",
              " 425: 'liked',\n",
              " 426: 'become',\n",
              " 427: 'worse',\n",
              " 428: 'entertaining',\n",
              " 429: 'oh',\n",
              " 430: 'sort',\n",
              " 431: 'loved',\n",
              " 432: 'lost',\n",
              " 433: 'hope',\n",
              " 434: 'called',\n",
              " 435: 'picture',\n",
              " 436: 'felt',\n",
              " 437: 'overall',\n",
              " 438: 'entire',\n",
              " 439: 'mr',\n",
              " 440: 'several',\n",
              " 441: 'based',\n",
              " 442: 'supposed',\n",
              " 443: 'cinema',\n",
              " 444: 'friend',\n",
              " 445: 'guys',\n",
              " 446: 'sound',\n",
              " 447: '5',\n",
              " 448: 'problem',\n",
              " 449: 'drama',\n",
              " 450: 'against',\n",
              " 451: 'waste',\n",
              " 452: 'white',\n",
              " 453: 'beginning',\n",
              " 454: '4',\n",
              " 455: 'fans',\n",
              " 456: 'totally',\n",
              " 457: 'dark',\n",
              " 458: 'care',\n",
              " 459: 'direction',\n",
              " 460: 'humor',\n",
              " 461: 'wanted',\n",
              " 462: \"she's\",\n",
              " 463: 'seemed',\n",
              " 464: 'under',\n",
              " 465: 'game',\n",
              " 466: 'children',\n",
              " 467: 'despite',\n",
              " 468: 'lives',\n",
              " 469: 'lead',\n",
              " 470: 'guess',\n",
              " 471: 'example',\n",
              " 472: 'already',\n",
              " 473: 'final',\n",
              " 474: 'throughout',\n",
              " 475: \"you'll\",\n",
              " 476: 'turn',\n",
              " 477: 'evil',\n",
              " 478: 'becomes',\n",
              " 479: 'unfortunately',\n",
              " 480: 'able',\n",
              " 481: 'quality',\n",
              " 482: \"i'd\",\n",
              " 483: 'days',\n",
              " 484: 'history',\n",
              " 485: 'fine',\n",
              " 486: 'side',\n",
              " 487: 'wants',\n",
              " 488: 'horrible',\n",
              " 489: 'heart',\n",
              " 490: 'writing',\n",
              " 491: 'amazing',\n",
              " 492: 'b',\n",
              " 493: 'flick',\n",
              " 494: 'killer',\n",
              " 495: 'run',\n",
              " 496: 'son',\n",
              " 497: '\\x96',\n",
              " 498: 'michael',\n",
              " 499: 'works',\n",
              " 500: 'close',\n",
              " 501: \"they're\",\n",
              " 502: 'act',\n",
              " 503: 'art',\n",
              " 504: 'kill',\n",
              " 505: 'matter',\n",
              " 506: 'etc',\n",
              " 507: 'tries',\n",
              " 508: \"won't\",\n",
              " 509: 'past',\n",
              " 510: 'town',\n",
              " 511: 'turns',\n",
              " 512: 'enjoyed',\n",
              " 513: 'brilliant',\n",
              " 514: 'gave',\n",
              " 515: 'behind',\n",
              " 516: 'parts',\n",
              " 517: 'stuff',\n",
              " 518: 'genre',\n",
              " 519: 'eyes',\n",
              " 520: 'car',\n",
              " 521: 'favorite',\n",
              " 522: 'directed',\n",
              " 523: 'late',\n",
              " 524: 'hand',\n",
              " 525: 'expect',\n",
              " 526: 'soon',\n",
              " 527: 'hour',\n",
              " 528: 'obviously',\n",
              " 529: 'themselves',\n",
              " 530: 'sometimes',\n",
              " 531: 'killed',\n",
              " 532: 'thinking',\n",
              " 533: 'actress',\n",
              " 534: 'child',\n",
              " 535: 'girls',\n",
              " 536: 'viewer',\n",
              " 537: 'starts',\n",
              " 538: 'city',\n",
              " 539: 'myself',\n",
              " 540: 'decent',\n",
              " 541: 'highly',\n",
              " 542: 'stop',\n",
              " 543: 'type',\n",
              " 544: 'self',\n",
              " 545: 'god',\n",
              " 546: 'says',\n",
              " 547: 'group',\n",
              " 548: 'anyway',\n",
              " 549: 'voice',\n",
              " 550: 'took',\n",
              " 551: 'known',\n",
              " 552: 'blood',\n",
              " 553: 'kid',\n",
              " 554: 'heard',\n",
              " 555: 'happens',\n",
              " 556: 'except',\n",
              " 557: 'fight',\n",
              " 558: 'feeling',\n",
              " 559: 'experience',\n",
              " 560: 'coming',\n",
              " 561: 'slow',\n",
              " 562: 'daughter',\n",
              " 563: 'writer',\n",
              " 564: 'stories',\n",
              " 565: 'moment',\n",
              " 566: 'leave',\n",
              " 567: 'told',\n",
              " 568: 'extremely',\n",
              " 569: 'score',\n",
              " 570: 'violence',\n",
              " 571: 'involved',\n",
              " 572: 'police',\n",
              " 573: 'strong',\n",
              " 574: 'lack',\n",
              " 575: 'chance',\n",
              " 576: 'cannot',\n",
              " 577: 'hit',\n",
              " 578: 'roles',\n",
              " 579: 'hilarious',\n",
              " 580: 's',\n",
              " 581: 'happen',\n",
              " 582: 'wonder',\n",
              " 583: 'particularly',\n",
              " 584: 'ok',\n",
              " 585: 'including',\n",
              " 586: 'save',\n",
              " 587: 'living',\n",
              " 588: 'looked',\n",
              " 589: \"wouldn't\",\n",
              " 590: 'crap',\n",
              " 591: 'please',\n",
              " 592: 'simple',\n",
              " 593: 'cool',\n",
              " 594: 'murder',\n",
              " 595: 'obvious',\n",
              " 596: 'happened',\n",
              " 597: 'complete',\n",
              " 598: 'cut',\n",
              " 599: 'age',\n",
              " 600: 'serious',\n",
              " 601: 'gore',\n",
              " 602: 'attempt',\n",
              " 603: 'hell',\n",
              " 604: 'ago',\n",
              " 605: 'song',\n",
              " 606: 'shown',\n",
              " 607: 'taken',\n",
              " 608: 'english',\n",
              " 609: 'james',\n",
              " 610: 'robert',\n",
              " 611: 'david',\n",
              " 612: 'seriously',\n",
              " 613: 'released',\n",
              " 614: 'reality',\n",
              " 615: 'opening',\n",
              " 616: 'interest',\n",
              " 617: 'jokes',\n",
              " 618: 'across',\n",
              " 619: 'none',\n",
              " 620: 'hero',\n",
              " 621: 'exactly',\n",
              " 622: 'today',\n",
              " 623: 'possible',\n",
              " 624: 'alone',\n",
              " 625: 'sad',\n",
              " 626: 'brother',\n",
              " 627: 'number',\n",
              " 628: 'saying',\n",
              " 629: 'career',\n",
              " 630: \"film's\",\n",
              " 631: 'usually',\n",
              " 632: 'hours',\n",
              " 633: 'cinematography',\n",
              " 634: 'talent',\n",
              " 635: 'view',\n",
              " 636: 'annoying',\n",
              " 637: 'yourself',\n",
              " 638: 'running',\n",
              " 639: 'relationship',\n",
              " 640: 'documentary',\n",
              " 641: 'wish',\n",
              " 642: 'order',\n",
              " 643: 'huge',\n",
              " 644: 'shots',\n",
              " 645: 'whose',\n",
              " 646: 'ridiculous',\n",
              " 647: 'taking',\n",
              " 648: 'important',\n",
              " 649: 'light',\n",
              " 650: 'body',\n",
              " 651: 'middle',\n",
              " 652: 'level',\n",
              " 653: 'ends',\n",
              " 654: 'started',\n",
              " 655: 'call',\n",
              " 656: 'female',\n",
              " 657: \"i'll\",\n",
              " 658: 'husband',\n",
              " 659: 'four',\n",
              " 660: 'power',\n",
              " 661: 'turned',\n",
              " 662: 'major',\n",
              " 663: 'word',\n",
              " 664: 'opinion',\n",
              " 665: 'change',\n",
              " 666: 'mostly',\n",
              " 667: 'usual',\n",
              " 668: 'silly',\n",
              " 669: 'scary',\n",
              " 670: 'rating',\n",
              " 671: 'beyond',\n",
              " 672: 'somewhat',\n",
              " 673: 'happy',\n",
              " 674: 'ones',\n",
              " 675: 'words',\n",
              " 676: 'room',\n",
              " 677: 'knew',\n",
              " 678: 'knows',\n",
              " 679: 'country',\n",
              " 680: 'disappointed',\n",
              " 681: 'talking',\n",
              " 682: 'novel',\n",
              " 683: 'apparently',\n",
              " 684: 'non',\n",
              " 685: 'strange',\n",
              " 686: 'upon',\n",
              " 687: 'attention',\n",
              " 688: 'single',\n",
              " 689: 'finds',\n",
              " 690: 'basically',\n",
              " 691: 'cheap',\n",
              " 692: 'modern',\n",
              " 693: 'due',\n",
              " 694: 'jack',\n",
              " 695: 'television',\n",
              " 696: 'musical',\n",
              " 697: 'problems',\n",
              " 698: 'miss',\n",
              " 699: 'episodes',\n",
              " 700: 'clearly',\n",
              " 701: 'local',\n",
              " 702: '7',\n",
              " 703: 'british',\n",
              " 704: 'thriller',\n",
              " 705: 'talk',\n",
              " 706: 'events',\n",
              " 707: 'five',\n",
              " 708: 'sequence',\n",
              " 709: \"aren't\",\n",
              " 710: 'class',\n",
              " 711: 'french',\n",
              " 712: 'moving',\n",
              " 713: 'ten',\n",
              " 714: 'fast',\n",
              " 715: 'earth',\n",
              " 716: 'review',\n",
              " 717: 'tells',\n",
              " 718: 'predictable',\n",
              " 719: 'team',\n",
              " 720: 'songs',\n",
              " 721: 'comic',\n",
              " 722: 'straight',\n",
              " 723: '8',\n",
              " 724: 'whether',\n",
              " 725: 'die',\n",
              " 726: 'add',\n",
              " 727: 'dialog',\n",
              " 728: 'entertainment',\n",
              " 729: 'above',\n",
              " 730: 'sets',\n",
              " 731: 'future',\n",
              " 732: 'enjoyable',\n",
              " 733: 'appears',\n",
              " 734: 'near',\n",
              " 735: 'space',\n",
              " 736: 'easily',\n",
              " 737: 'hate',\n",
              " 738: 'soundtrack',\n",
              " 739: 'bring',\n",
              " 740: 'giving',\n",
              " 741: 'lots',\n",
              " 742: 'similar',\n",
              " 743: 'romantic',\n",
              " 744: 'george',\n",
              " 745: 'supporting',\n",
              " 746: 'release',\n",
              " 747: 'mention',\n",
              " 748: 'filmed',\n",
              " 749: 'within',\n",
              " 750: 'message',\n",
              " 751: 'sequel',\n",
              " 752: 'clear',\n",
              " 753: 'falls',\n",
              " 754: 'needs',\n",
              " 755: \"haven't\",\n",
              " 756: 'dull',\n",
              " 757: 'suspense',\n",
              " 758: 'eye',\n",
              " 759: 'bunch',\n",
              " 760: 'surprised',\n",
              " 761: 'showing',\n",
              " 762: 'sorry',\n",
              " 763: 'tried',\n",
              " 764: 'certain',\n",
              " 765: 'working',\n",
              " 766: 'easy',\n",
              " 767: 'ways',\n",
              " 768: 'theme',\n",
              " 769: 'theater',\n",
              " 770: 'named',\n",
              " 771: 'among',\n",
              " 772: \"what's\",\n",
              " 773: 'storyline',\n",
              " 774: 'monster',\n",
              " 775: 'king',\n",
              " 776: 'stay',\n",
              " 777: 'effort',\n",
              " 778: 'fall',\n",
              " 779: 'minute',\n",
              " 780: 'stand',\n",
              " 781: 'gone',\n",
              " 782: 'rock',\n",
              " 783: 'using',\n",
              " 784: '9',\n",
              " 785: 'feature',\n",
              " 786: 'buy',\n",
              " 787: 'comments',\n",
              " 788: \"'\",\n",
              " 789: 't',\n",
              " 790: 'typical',\n",
              " 791: 'editing',\n",
              " 792: 'sister',\n",
              " 793: 'tale',\n",
              " 794: 'avoid',\n",
              " 795: 'dr',\n",
              " 796: 'mystery',\n",
              " 797: 'deal',\n",
              " 798: 'doubt',\n",
              " 799: 'fantastic',\n",
              " 800: 'nearly',\n",
              " 801: 'kept',\n",
              " 802: 'feels',\n",
              " 803: 'subject',\n",
              " 804: 'okay',\n",
              " 805: 'viewing',\n",
              " 806: 'elements',\n",
              " 807: 'check',\n",
              " 808: 'oscar',\n",
              " 809: 'points',\n",
              " 810: 'realistic',\n",
              " 811: 'means',\n",
              " 812: 'greatest',\n",
              " 813: 'herself',\n",
              " 814: 'parents',\n",
              " 815: 'famous',\n",
              " 816: 'imagine',\n",
              " 817: 'rent',\n",
              " 818: 'viewers',\n",
              " 819: 'richard',\n",
              " 820: 'crime',\n",
              " 821: 'form',\n",
              " 822: 'peter',\n",
              " 823: 'actual',\n",
              " 824: 'lady',\n",
              " 825: 'general',\n",
              " 826: 'dog',\n",
              " 827: 'follow',\n",
              " 828: 'believable',\n",
              " 829: 'period',\n",
              " 830: 'red',\n",
              " 831: 'move',\n",
              " 832: 'brought',\n",
              " 833: 'material',\n",
              " 834: 'forget',\n",
              " 835: 'somehow',\n",
              " 836: 'begins',\n",
              " 837: 're',\n",
              " 838: 'reviews',\n",
              " 839: 'animation',\n",
              " 840: 'paul',\n",
              " 841: \"you've\",\n",
              " 842: 'leads',\n",
              " 843: 'weak',\n",
              " 844: 'figure',\n",
              " 845: 'surprise',\n",
              " 846: 'hear',\n",
              " 847: 'sit',\n",
              " 848: 'average',\n",
              " 849: 'open',\n",
              " 850: 'sequences',\n",
              " 851: 'killing',\n",
              " 852: 'atmosphere',\n",
              " 853: 'eventually',\n",
              " 854: 'learn',\n",
              " 855: 'tom',\n",
              " 856: 'premise',\n",
              " 857: '20',\n",
              " 858: 'wait',\n",
              " 859: 'sci',\n",
              " 860: 'deep',\n",
              " 861: 'fi',\n",
              " 862: 'expected',\n",
              " 863: 'whatever',\n",
              " 864: 'indeed',\n",
              " 865: 'note',\n",
              " 866: 'poorly',\n",
              " 867: 'lame',\n",
              " 868: 'particular',\n",
              " 869: 'imdb',\n",
              " 870: 'dance',\n",
              " 871: 'situation',\n",
              " 872: 'shame',\n",
              " 873: 'third',\n",
              " 874: 'box',\n",
              " 875: 'york',\n",
              " 876: 'truth',\n",
              " 877: 'decided',\n",
              " 878: 'free',\n",
              " 879: 'hot',\n",
              " 880: \"who's\",\n",
              " 881: 'difficult',\n",
              " 882: 'season',\n",
              " 883: 'needed',\n",
              " 884: 'acted',\n",
              " 885: 'leaves',\n",
              " 886: 'unless',\n",
              " 887: 'emotional',\n",
              " 888: 'possibly',\n",
              " 889: 'romance',\n",
              " 890: 'sexual',\n",
              " 891: 'gay',\n",
              " 892: 'boys',\n",
              " 893: 'footage',\n",
              " 894: 'write',\n",
              " 895: 'western',\n",
              " 896: 'forced',\n",
              " 897: 'credits',\n",
              " 898: 'became',\n",
              " 899: 'doctor',\n",
              " 900: 'memorable',\n",
              " 901: 'reading',\n",
              " 902: 'otherwise',\n",
              " 903: 'crew',\n",
              " 904: 'de',\n",
              " 905: 'begin',\n",
              " 906: 'air',\n",
              " 907: 'question',\n",
              " 908: 'meet',\n",
              " 909: 'society',\n",
              " 910: 'male',\n",
              " 911: 'meets',\n",
              " 912: \"let's\",\n",
              " 913: 'plus',\n",
              " 914: 'cheesy',\n",
              " 915: 'hands',\n",
              " 916: 'superb',\n",
              " 917: 'screenplay',\n",
              " 918: 'interested',\n",
              " 919: 'beauty',\n",
              " 920: 'street',\n",
              " 921: 'features',\n",
              " 922: 'masterpiece',\n",
              " 923: 'whom',\n",
              " 924: 'perfectly',\n",
              " 925: 'laughs',\n",
              " 926: 'stage',\n",
              " 927: 'nature',\n",
              " 928: 'effect',\n",
              " 929: 'comment',\n",
              " 930: 'forward',\n",
              " 931: 'nor',\n",
              " 932: 'previous',\n",
              " 933: 'sounds',\n",
              " 934: 'badly',\n",
              " 935: 'e',\n",
              " 936: 'japanese',\n",
              " 937: 'weird',\n",
              " 938: 'island',\n",
              " 939: 'personal',\n",
              " 940: 'inside',\n",
              " 941: 'quickly',\n",
              " 942: 'total',\n",
              " 943: 'keeps',\n",
              " 944: 'towards',\n",
              " 945: 'result',\n",
              " 946: 'america',\n",
              " 947: 'battle',\n",
              " 948: 'crazy',\n",
              " 949: 'worked',\n",
              " 950: 'incredibly',\n",
              " 951: 'setting',\n",
              " 952: 'earlier',\n",
              " 953: 'background',\n",
              " 954: 'mess',\n",
              " 955: 'cop',\n",
              " 956: 'writers',\n",
              " 957: 'fire',\n",
              " 958: 'copy',\n",
              " 959: 'dumb',\n",
              " 960: 'realize',\n",
              " 961: 'unique',\n",
              " 962: 'powerful',\n",
              " 963: 'lee',\n",
              " 964: 'mark',\n",
              " 965: 'business',\n",
              " 966: 'rate',\n",
              " 967: 'older',\n",
              " 968: 'dramatic',\n",
              " 969: 'pay',\n",
              " 970: 'following',\n",
              " 971: 'girlfriend',\n",
              " 972: 'directors',\n",
              " 973: 'joke',\n",
              " 974: 'plenty',\n",
              " 975: 'directing',\n",
              " 976: 'various',\n",
              " 977: 'creepy',\n",
              " 978: 'baby',\n",
              " 979: 'appear',\n",
              " 980: 'development',\n",
              " 981: 'brings',\n",
              " 982: 'front',\n",
              " 983: 'dream',\n",
              " 984: 'ask',\n",
              " 985: 'water',\n",
              " 986: 'rich',\n",
              " 987: 'admit',\n",
              " 988: 'bill',\n",
              " 989: 'apart',\n",
              " 990: 'joe',\n",
              " 991: 'fairly',\n",
              " 992: 'political',\n",
              " 993: 'reasons',\n",
              " 994: 'leading',\n",
              " 995: 'spent',\n",
              " 996: 'portrayed',\n",
              " 997: 'telling',\n",
              " 998: 'cover',\n",
              " 999: 'outside',\n",
              " 1000: 'fighting',\n",
              " ...}"
            ]
          },
          "metadata": {},
          "execution_count": 116
        }
      ]
    },
    {
      "cell_type": "code",
      "source": [
        "# word attention 시각화\n",
        "def sentiment_analysis(review):         # review 에 text가 들어가게됨\n",
        "    tokenized_sentences = doc2hierarchical(review)  # model 에 넣을수 있는 형태로 변형시켜줌\n",
        "    \n",
        "    # word attention만 가져오기\n",
        "    pred_attention = attention_extractor.predict(np.asarray([tokenized_sentences]))[0][0]\n",
        "    for sent_idx, sentence in enumerate(tokenized_sentences):\n",
        "        if sentence[-1] == 0:\n",
        "            continue\n",
        "            \n",
        "        for word_idx in range(MAX_SENTENCE_LENGTH):\n",
        "            if sentence[word_idx] != 0:\n",
        "                words = [word_rev_index[word_id] for word_id in sentence[word_idx:]]\n",
        "                pred_att = pred_attention[sent_idx][-len(words):]\n",
        "                pred_att = np.expand_dims(pred_att, axis=0)\n",
        "                break\n",
        "\n",
        "        fig, ax = plt.subplots(figsize=(len(words), 1))\n",
        "        plt.rc('xtick', labelsize=16)\n",
        "        midpoint = (max(pred_att[:, 0]) - min(pred_att[:, 0])) / 2\n",
        "        heatmap = sn.heatmap(pred_att, xticklabels=words, yticklabels=False, square=True, linewidths=0.1, cmap='coolwarm', center=midpoint, vmin=0, vmax=1)\n",
        "        plt.xticks(rotation=45)\n",
        "        plt.show()\n",
        "        "
      ],
      "metadata": {
        "id": "XO6gj4Ot_dq-"
      },
      "execution_count": 90,
      "outputs": []
    },
    {
      "cell_type": "code",
      "source": [
        "# sentence attention 시각화\n",
        "def sentiment_sent_analysis(review):         # review 에 text가 들어가게됨\n",
        "    tokenized_sentences = doc2hierarchical(review)  # model 에 넣을수 있는 형태로 변형시켜줌\n",
        "    pred_sent_attention = attention_extractor.predict(np.asarray([tokenized_sentences]))[1][0]\n",
        "    print(pred_sent_attention)\n"
      ],
      "metadata": {
        "id": "2fUswq6VUy-I"
      },
      "execution_count": 83,
      "outputs": []
    },
    {
      "cell_type": "code",
      "source": [
        "pred_sent_attention"
      ],
      "metadata": {
        "colab": {
          "base_uri": "https://localhost:8080/"
        },
        "id": "gVMdebWIcgOn",
        "outputId": "c7895d46-e7c6-4321-f027-baa6e39c8af2"
      },
      "execution_count": 101,
      "outputs": [
        {
          "output_type": "execute_result",
          "data": {
            "text/plain": [
              "array([0.15108556, 0.2972236 , 0.25681004, 0.1944112 , 0.05340075,\n",
              "       0.0442016 , 0.00086487, 0.00068306, 0.00067037, 0.00064894],\n",
              "      dtype=float32)"
            ]
          },
          "metadata": {},
          "execution_count": 101
        }
      ]
    },
    {
      "cell_type": "code",
      "source": [
        "import matplotlib.pyplot as plt\n",
        "\n",
        "fig, ax = plt.subplots(figsize=(len(pred_sent_attention), 1))\n",
        "plt.rc('xtick', labelsize=16)\n",
        "midpoint = (max(pred_sent_attention) - min(pred_sent_attention)) / 2\n",
        "heatmap = sn.heatmap(pred_attention, xticklabels=False, yticklabels=False, square=True, linewidths=0.1, cmap='coolwarm', center=midpoint, vmin=0, vmax=1)\n",
        "#sn.heatmap(pred_att, xticklabels=words, yticklabels=False, square=True, linewidths=0.1, cmap='coolwarm', center=midpoint, vmin=0, vmax=1)\n",
        "plt.xticks(rotation=45) # 글자 45도 기울임\n",
        "plt.show()\n",
        "# "
      ],
      "metadata": {
        "colab": {
          "base_uri": "https://localhost:8080/",
          "height": 94
        },
        "id": "_anBD1fVXySb",
        "outputId": "da768dd6-65db-46da-c8b5-4fc5d0958dd2"
      },
      "execution_count": 98,
      "outputs": [
        {
          "output_type": "display_data",
          "data": {
            "image/png": "[encoded data removed]",
            "text/plain": [
              "<Figure size 720x72 with 2 Axes>"
            ]
          },
          "metadata": {
            "needs_background": "light"
          }
        }
      ]
    },
    {
      "cell_type": "code",
      "source": [
        "        \n",
        "        heatmap = sn.heatmap(pred_sent_attention, xticklabels=words, yticklabels=False, square=True, linewidths=0.1, cmap='coolwarm', center=midpoint, vmin=0, vmax=1)\n",
        "        plt.xticks(rotation=45)\n",
        "        plt.show()"
      ],
      "metadata": {
        "id": "9pmEwxXRX3Ez"
      },
      "execution_count": null,
      "outputs": []
    },
    {
      "cell_type": "code",
      "source": [
        "pred_sent_attention"
      ],
      "metadata": {
        "id": "cmwKyrvtXyV-"
      },
      "execution_count": null,
      "outputs": []
    },
    {
      "cell_type": "code",
      "source": [
        "\n",
        "#    word_attention_extractor = Model(inputs=[sentence_input], outputs=[word_attention])\n",
        "#    word_attentions = TimeDistributed(word_attention_extractor)(document_input)\n",
        "#    attention_extractor = Model(inputs=[document_input], outputs=[word_attentions, sentence_attention])\n",
        "\n",
        "def sentiment_sent_analysis(review):         # review 에 text가 들어가게됨\n",
        "    tokenized_sentences = doc2hierarchical(review)  # model 에 넣을수 있는 형태로 변형시켜줌\n",
        "    pred_sent_attention = attention_extractor.predict(np.asarray([tokenized_sentences]))[1][0]\n",
        "    print(pred_sent_attention)\n",
        "#    for sent_idx, doc in enumerate(tokenized_sentences):  # len(tokenized_sentences) = 문장의 개수 문장개수만큼 attention 계산함\n",
        "#        if doc[-1] == 0:\n",
        "#            continue\n",
        "            \n",
        "#        for sentence_idx in range(len(tokenized_sentences)):\n",
        "#            if doc[sentence_idx] != 0:\n",
        "                # words = [word_rev_index[word_id] for word_id in doc[word_idx:]]\n",
        "#                pred_att = pred_sent_attention[sent_idx][-len(words):]\n",
        "#                pred_att = np.expand_dims(pred_sent_att, axis=0)\n",
        " #               break\n",
        "\n",
        "#        fig, ax = plt.subplots(figsize=(len(words), 1))\n",
        "#        plt.rc('xtick', labelsize=16)\n",
        "#        midpoint = (max(pred_att[:, 0]) - min(pred_att[:, 0])) / 2\n",
        "#        heatmap = sn.heatmap(pred_att, xticklabels=words, yticklabels=False, square=True, linewidths=0.1, cmap='coolwarm', center=midpoint, vmin=0, vmax=1)\n",
        "#        plt.xticks(rotation=45)\n",
        "#        plt.show()\n"
      ],
      "metadata": {
        "id": "Pf1M2arvV0g1"
      },
      "execution_count": null,
      "outputs": []
    },
    {
      "cell_type": "code",
      "source": [
        "sent1=\"Absolute perfection end game !! Good acting performance to all the characters. Great cgi's. Truly epic & perfect ending to a long journey of marvel movie. Go see it you wont regret it !! Perfection Marvel Endgame !!\"\n",
        "tokenized_sentences = doc2hierarchical(sent1) ;tokenized_sentences # (10, 25) 총 10개의 문장으로 이루어짐"
      ],
      "metadata": {
        "colab": {
          "base_uri": "https://localhost:8080/"
        },
        "id": "jinxsvMSPe48",
        "outputId": "24102c5a-b7b9-49b0-fb29-cb6f5371dd33"
      },
      "execution_count": 52,
      "outputs": [
        {
          "output_type": "execute_result",
          "data": {
            "text/plain": [
              "array([[    0,     0,     0,     0,     0,     0,     0,     0,     0,\n",
              "            0,     0,     0,     0,     0,     0,     0,     0,     0,\n",
              "            0,     0,     0,  1591,  3116,   127,   465],\n",
              "       [    0,     0,     0,     0,     0,     0,     0,     0,     0,\n",
              "            0,     0,     0,     0,     0,     0,     0,     0,     0,\n",
              "           49,   113,   241,     5,    29,     1,   102],\n",
              "       [    0,     0,     0,     0,     0,     0,     0,     0,     0,\n",
              "            0,     0,     0,     0,     0,     0,     0,     0,     0,\n",
              "            0,     0,     0,     0,     0,    78, 67633],\n",
              "       [    0,     0,     0,     0,     0,     0,     0,     0,     0,\n",
              "            0,     0,     0,     0,     0,   371,  1630,   399,   272,\n",
              "            5,     3,   194,  1261,     4,  5815,    17],\n",
              "       [    0,     0,     0,     0,     0,     0,     0,     0,     0,\n",
              "            0,     0,     0,     0,     0,     0,     0,     0,     0,\n",
              "          139,    63,     9,    22,  4007,  2529,     9],\n",
              "       [    0,     0,     0,     0,     0,     0,     0,     0,     0,\n",
              "            0,     0,     0,     0,     0,     0,     0,     0,     0,\n",
              "            0,     0,     0,     0,  3116,  5815, 29041],\n",
              "       [    0,     0,     0,     0,     0,     0,     0,     0,     0,\n",
              "            0,     0,     0,     0,     0,     0,     0,     0,     0,\n",
              "            0,     0,     0,     0,     0,     0,     0],\n",
              "       [    0,     0,     0,     0,     0,     0,     0,     0,     0,\n",
              "            0,     0,     0,     0,     0,     0,     0,     0,     0,\n",
              "            0,     0,     0,     0,     0,     0,     0],\n",
              "       [    0,     0,     0,     0,     0,     0,     0,     0,     0,\n",
              "            0,     0,     0,     0,     0,     0,     0,     0,     0,\n",
              "            0,     0,     0,     0,     0,     0,     0],\n",
              "       [    0,     0,     0,     0,     0,     0,     0,     0,     0,\n",
              "            0,     0,     0,     0,     0,     0,     0,     0,     0,\n",
              "            0,     0,     0,     0,     0,     0,     0]], dtype=int32)"
            ]
          },
          "metadata": {},
          "execution_count": 52
        }
      ]
    },
    {
      "cell_type": "code",
      "source": [
        "pred_word_attention = attention_extractor.predict(np.asarray([tokenized_sentences]))[0][0] ;pred_word_attention  # (10, 25)"
      ],
      "metadata": {
        "colab": {
          "base_uri": "https://localhost:8080/"
        },
        "id": "iqTasHqEPfOC",
        "outputId": "e72bd1c5-9a97-41ed-e192-90ecce35f4e0"
      },
      "execution_count": 67,
      "outputs": [
        {
          "output_type": "execute_result",
          "data": {
            "text/plain": [
              "array([[7.61352712e-05, 7.36664151e-05, 7.33621418e-05, 7.32623012e-05,\n",
              "        7.32354820e-05, 7.32419066e-05, 7.32603512e-05, 7.32806802e-05,\n",
              "        7.32985063e-05, 7.33119232e-05, 7.33203124e-05, 7.33240959e-05,\n",
              "        7.33242341e-05, 7.33222769e-05, 7.33215056e-05, 7.33270281e-05,\n",
              "        7.33485067e-05, 7.34188361e-05, 7.36741422e-05, 7.50292893e-05,\n",
              "        7.88638790e-05, 3.16130757e-01, 4.72914219e-01, 6.32230937e-02,\n",
              "        1.46181628e-01],\n",
              "       [2.77204836e-05, 2.62726244e-05, 2.61022506e-05, 2.60491324e-05,\n",
              "        2.60383040e-05, 2.60476918e-05, 2.60649886e-05, 2.60845827e-05,\n",
              "        2.61040932e-05, 2.61229216e-05, 2.61415862e-05, 2.61620135e-05,\n",
              "        2.61883215e-05, 2.62317644e-05, 2.63315196e-05, 2.66864608e-05,\n",
              "        2.81985922e-05, 3.52093957e-05, 9.08616483e-01, 2.29003709e-02,\n",
              "        1.15041966e-02, 5.88127645e-04, 3.42529193e-02, 1.05974050e-02,\n",
              "        1.10566905e-02],\n",
              "       [1.24888305e-04, 1.20929704e-04, 1.20449287e-04, 1.20295226e-04,\n",
              "        1.20258293e-04, 1.20275268e-04, 1.20312092e-04, 1.20352721e-04,\n",
              "        1.20389683e-04, 1.20420227e-04, 1.20442746e-04, 1.20457786e-04,\n",
              "        1.20465593e-04, 1.20468125e-04, 1.20467557e-04, 1.20467899e-04,\n",
              "        1.20474673e-04, 1.20495817e-04, 1.20548793e-04, 1.20692479e-04,\n",
              "        1.21320954e-04, 1.23971025e-04, 1.34925096e-04, 6.61658883e-01,\n",
              "        3.35547209e-01],\n",
              "       [2.13461917e-05, 2.04569023e-05, 2.03467025e-05, 2.03138970e-05,\n",
              "        2.03093241e-05, 2.03185464e-05, 2.03346353e-05, 2.03551626e-05,\n",
              "        2.03804539e-05, 2.04142598e-05, 2.04693933e-05, 2.06498171e-05,\n",
              "        2.12705163e-05, 2.48583601e-05, 1.07999835e-02, 1.86284855e-01,\n",
              "        7.30168223e-01, 1.82413533e-02, 1.00615900e-04, 1.04323284e-04,\n",
              "        6.77056937e-03, 2.60130595e-03, 6.59901474e-04, 4.14684452e-02,\n",
              "        2.50861445e-03],\n",
              "       [3.38691025e-04, 3.28640657e-04, 3.27404734e-04, 3.26995651e-04,\n",
              "        3.26889131e-04, 3.26924230e-04, 3.27013258e-04, 3.27114307e-04,\n",
              "        3.27210582e-04, 3.27295624e-04, 3.27370974e-04, 3.27442802e-04,\n",
              "        3.27526039e-04, 3.27654911e-04, 3.27930320e-04, 3.28843977e-04,\n",
              "        3.32839641e-04, 3.45854321e-04, 3.34005542e-02, 3.34035419e-02,\n",
              "        2.51175929e-02, 3.14121246e-02, 2.78837442e-01, 5.52356422e-01,\n",
              "        3.95425893e-02],\n",
              "       [5.70739794e-05, 5.50860423e-05, 5.48472126e-05, 5.47707423e-05,\n",
              "        5.47522541e-05, 5.47606105e-05, 5.47788404e-05, 5.47988493e-05,\n",
              "        5.48170428e-05, 5.48318385e-05, 5.48425087e-05, 5.48490971e-05,\n",
              "        5.48519201e-05, 5.48518146e-05, 5.48503522e-05, 5.48502467e-05,\n",
              "        5.48565258e-05, 5.48800199e-05, 5.49606266e-05, 5.52580968e-05,\n",
              "        5.68735340e-05, 6.22442894e-05, 5.57827652e-01, 4.33543533e-01,\n",
              "        7.41013559e-03],\n",
              "       [4.13828194e-02, 3.99147682e-02, 3.97406742e-02, 3.96850184e-02,\n",
              "        3.96728888e-02, 3.96815538e-02, 3.96981351e-02, 3.97165753e-02,\n",
              "        3.97340208e-02, 3.97492014e-02, 3.97615992e-02, 3.97708304e-02,\n",
              "        3.97769585e-02, 3.97800319e-02, 3.97803336e-02, 3.97782288e-02,\n",
              "        3.97742465e-02, 3.97694483e-02, 3.97652760e-02, 3.97646315e-02,\n",
              "        3.97739261e-02, 3.98136005e-02, 3.99750322e-02, 4.06969860e-02,\n",
              "        4.30432446e-02],\n",
              "       [4.13828194e-02, 3.99147682e-02, 3.97406742e-02, 3.96850184e-02,\n",
              "        3.96728888e-02, 3.96815538e-02, 3.96981351e-02, 3.97165753e-02,\n",
              "        3.97340208e-02, 3.97492014e-02, 3.97615992e-02, 3.97708304e-02,\n",
              "        3.97769585e-02, 3.97800319e-02, 3.97803336e-02, 3.97782288e-02,\n",
              "        3.97742465e-02, 3.97694483e-02, 3.97652760e-02, 3.97646315e-02,\n",
              "        3.97739261e-02, 3.98136005e-02, 3.99750322e-02, 4.06969860e-02,\n",
              "        4.30432446e-02],\n",
              "       [4.13828194e-02, 3.99147682e-02, 3.97406742e-02, 3.96850184e-02,\n",
              "        3.96728888e-02, 3.96815538e-02, 3.96981351e-02, 3.97165753e-02,\n",
              "        3.97340208e-02, 3.97492014e-02, 3.97615992e-02, 3.97708304e-02,\n",
              "        3.97769585e-02, 3.97800319e-02, 3.97803336e-02, 3.97782288e-02,\n",
              "        3.97742465e-02, 3.97694483e-02, 3.97652760e-02, 3.97646315e-02,\n",
              "        3.97739261e-02, 3.98136005e-02, 3.99750322e-02, 4.06969860e-02,\n",
              "        4.30432446e-02],\n",
              "       [4.13828194e-02, 3.99147682e-02, 3.97406742e-02, 3.96850184e-02,\n",
              "        3.96728888e-02, 3.96815538e-02, 3.96981351e-02, 3.97165753e-02,\n",
              "        3.97340208e-02, 3.97492014e-02, 3.97615992e-02, 3.97708304e-02,\n",
              "        3.97769585e-02, 3.97800319e-02, 3.97803336e-02, 3.97782288e-02,\n",
              "        3.97742465e-02, 3.97694483e-02, 3.97652760e-02, 3.97646315e-02,\n",
              "        3.97739261e-02, 3.98136005e-02, 3.99750322e-02, 4.06969860e-02,\n",
              "        4.30432446e-02]], dtype=float32)"
            ]
          },
          "metadata": {},
          "execution_count": 67
        }
      ]
    },
    {
      "cell_type": "code",
      "source": [
        "pred_sent_attention = attention_extractor.predict(np.asarray([tokenized_sentences]))[1][0] ;pred_sent_attention  # (10, ) 10개 문장에대한  attention값이 나옴"
      ],
      "metadata": {
        "colab": {
          "base_uri": "https://localhost:8080/"
        },
        "id": "5yb67zQmPfWL",
        "outputId": "dfb4c748-9eeb-4b33-cc2a-795dd2ca7b51"
      },
      "execution_count": 68,
      "outputs": [
        {
          "output_type": "execute_result",
          "data": {
            "text/plain": [
              "array([0.15108556, 0.2972236 , 0.25681004, 0.1944112 , 0.05340075,\n",
              "       0.0442016 , 0.00086487, 0.00068306, 0.00067037, 0.00064894],\n",
              "      dtype=float32)"
            ]
          },
          "metadata": {},
          "execution_count": 68
        }
      ]
    },
    {
      "cell_type": "code",
      "source": [
        "len(pred_sent_attention)"
      ],
      "metadata": {
        "colab": {
          "base_uri": "https://localhost:8080/"
        },
        "id": "dL8XAjadFz7x",
        "outputId": "eea6b097-8de5-4d6e-d9c7-945dc8142c7d"
      },
      "execution_count": 49,
      "outputs": [
        {
          "output_type": "execute_result",
          "data": {
            "text/plain": [
              "10"
            ]
          },
          "metadata": {},
          "execution_count": 49
        }
      ]
    },
    {
      "cell_type": "code",
      "source": [
        "len(pred_word_attention[2])"
      ],
      "metadata": {
        "colab": {
          "base_uri": "https://localhost:8080/"
        },
        "id": "IDC9rAvNF8v_",
        "outputId": "458bca55-a06c-4544-e503-45d51d62fe0a"
      },
      "execution_count": 57,
      "outputs": [
        {
          "output_type": "execute_result",
          "data": {
            "text/plain": [
              "25"
            ]
          },
          "metadata": {},
          "execution_count": 57
        }
      ]
    },
    {
      "cell_type": "code",
      "source": [
        " pred_word_attention[1][1]  "
      ],
      "metadata": {
        "colab": {
          "base_uri": "https://localhost:8080/"
        },
        "id": "4W92tsEIG5z0",
        "outputId": "d5bbca6c-efc5-4936-a237-cbc2710b2e89"
      },
      "execution_count": 60,
      "outputs": [
        {
          "output_type": "execute_result",
          "data": {
            "text/plain": [
              "2.6272624e-05"
            ]
          },
          "metadata": {},
          "execution_count": 60
        }
      ]
    },
    {
      "cell_type": "code",
      "source": [
        "pred_sent_attention[1]"
      ],
      "metadata": {
        "colab": {
          "base_uri": "https://localhost:8080/"
        },
        "id": "QEnRgyPeG7VV",
        "outputId": "31e388e2-0036-4343-9012-b5582909d16b"
      },
      "execution_count": 59,
      "outputs": [
        {
          "output_type": "execute_result",
          "data": {
            "text/plain": [
              "0.2972236"
            ]
          },
          "metadata": {},
          "execution_count": 59
        }
      ]
    },
    {
      "cell_type": "code",
      "source": [
        "pred_sent_attention[1] * pred_word_attention[1][1]  "
      ],
      "metadata": {
        "colab": {
          "base_uri": "https://localhost:8080/"
        },
        "id": "h9uo4wdDG1sk",
        "outputId": "e96fddb9-635f-42fd-8f08-278b30a96fa0"
      },
      "execution_count": 61,
      "outputs": [
        {
          "output_type": "execute_result",
          "data": {
            "text/plain": [
              "7.808844e-06"
            ]
          },
          "metadata": {},
          "execution_count": 61
        }
      ]
    },
    {
      "cell_type": "code",
      "source": [
        "pred_att_sample = pred_word_attention\n",
        "type(pred_att_sample)\n",
        "pred_att_sample[0][0] = 1\n",
        "pred_att_sample"
      ],
      "metadata": {
        "colab": {
          "base_uri": "https://localhost:8080/"
        },
        "id": "8rFpLhLUHgCq",
        "outputId": "52b3f8e6-e374-4315-e2a6-1172b17f7cbd"
      },
      "execution_count": 69,
      "outputs": [
        {
          "output_type": "execute_result",
          "data": {
            "text/plain": [
              "array([[1.00000000e+00, 7.36664151e-05, 7.33621418e-05, 7.32623012e-05,\n",
              "        7.32354820e-05, 7.32419066e-05, 7.32603512e-05, 7.32806802e-05,\n",
              "        7.32985063e-05, 7.33119232e-05, 7.33203124e-05, 7.33240959e-05,\n",
              "        7.33242341e-05, 7.33222769e-05, 7.33215056e-05, 7.33270281e-05,\n",
              "        7.33485067e-05, 7.34188361e-05, 7.36741422e-05, 7.50292893e-05,\n",
              "        7.88638790e-05, 3.16130757e-01, 4.72914219e-01, 6.32230937e-02,\n",
              "        1.46181628e-01],\n",
              "       [2.77204836e-05, 2.62726244e-05, 2.61022506e-05, 2.60491324e-05,\n",
              "        2.60383040e-05, 2.60476918e-05, 2.60649886e-05, 2.60845827e-05,\n",
              "        2.61040932e-05, 2.61229216e-05, 2.61415862e-05, 2.61620135e-05,\n",
              "        2.61883215e-05, 2.62317644e-05, 2.63315196e-05, 2.66864608e-05,\n",
              "        2.81985922e-05, 3.52093957e-05, 9.08616483e-01, 2.29003709e-02,\n",
              "        1.15041966e-02, 5.88127645e-04, 3.42529193e-02, 1.05974050e-02,\n",
              "        1.10566905e-02],\n",
              "       [1.24888305e-04, 1.20929704e-04, 1.20449287e-04, 1.20295226e-04,\n",
              "        1.20258293e-04, 1.20275268e-04, 1.20312092e-04, 1.20352721e-04,\n",
              "        1.20389683e-04, 1.20420227e-04, 1.20442746e-04, 1.20457786e-04,\n",
              "        1.20465593e-04, 1.20468125e-04, 1.20467557e-04, 1.20467899e-04,\n",
              "        1.20474673e-04, 1.20495817e-04, 1.20548793e-04, 1.20692479e-04,\n",
              "        1.21320954e-04, 1.23971025e-04, 1.34925096e-04, 6.61658883e-01,\n",
              "        3.35547209e-01],\n",
              "       [2.13461917e-05, 2.04569023e-05, 2.03467025e-05, 2.03138970e-05,\n",
              "        2.03093241e-05, 2.03185464e-05, 2.03346353e-05, 2.03551626e-05,\n",
              "        2.03804539e-05, 2.04142598e-05, 2.04693933e-05, 2.06498171e-05,\n",
              "        2.12705163e-05, 2.48583601e-05, 1.07999835e-02, 1.86284855e-01,\n",
              "        7.30168223e-01, 1.82413533e-02, 1.00615900e-04, 1.04323284e-04,\n",
              "        6.77056937e-03, 2.60130595e-03, 6.59901474e-04, 4.14684452e-02,\n",
              "        2.50861445e-03],\n",
              "       [3.38691025e-04, 3.28640657e-04, 3.27404734e-04, 3.26995651e-04,\n",
              "        3.26889131e-04, 3.26924230e-04, 3.27013258e-04, 3.27114307e-04,\n",
              "        3.27210582e-04, 3.27295624e-04, 3.27370974e-04, 3.27442802e-04,\n",
              "        3.27526039e-04, 3.27654911e-04, 3.27930320e-04, 3.28843977e-04,\n",
              "        3.32839641e-04, 3.45854321e-04, 3.34005542e-02, 3.34035419e-02,\n",
              "        2.51175929e-02, 3.14121246e-02, 2.78837442e-01, 5.52356422e-01,\n",
              "        3.95425893e-02],\n",
              "       [5.70739794e-05, 5.50860423e-05, 5.48472126e-05, 5.47707423e-05,\n",
              "        5.47522541e-05, 5.47606105e-05, 5.47788404e-05, 5.47988493e-05,\n",
              "        5.48170428e-05, 5.48318385e-05, 5.48425087e-05, 5.48490971e-05,\n",
              "        5.48519201e-05, 5.48518146e-05, 5.48503522e-05, 5.48502467e-05,\n",
              "        5.48565258e-05, 5.48800199e-05, 5.49606266e-05, 5.52580968e-05,\n",
              "        5.68735340e-05, 6.22442894e-05, 5.57827652e-01, 4.33543533e-01,\n",
              "        7.41013559e-03],\n",
              "       [4.13828194e-02, 3.99147682e-02, 3.97406742e-02, 3.96850184e-02,\n",
              "        3.96728888e-02, 3.96815538e-02, 3.96981351e-02, 3.97165753e-02,\n",
              "        3.97340208e-02, 3.97492014e-02, 3.97615992e-02, 3.97708304e-02,\n",
              "        3.97769585e-02, 3.97800319e-02, 3.97803336e-02, 3.97782288e-02,\n",
              "        3.97742465e-02, 3.97694483e-02, 3.97652760e-02, 3.97646315e-02,\n",
              "        3.97739261e-02, 3.98136005e-02, 3.99750322e-02, 4.06969860e-02,\n",
              "        4.30432446e-02],\n",
              "       [4.13828194e-02, 3.99147682e-02, 3.97406742e-02, 3.96850184e-02,\n",
              "        3.96728888e-02, 3.96815538e-02, 3.96981351e-02, 3.97165753e-02,\n",
              "        3.97340208e-02, 3.97492014e-02, 3.97615992e-02, 3.97708304e-02,\n",
              "        3.97769585e-02, 3.97800319e-02, 3.97803336e-02, 3.97782288e-02,\n",
              "        3.97742465e-02, 3.97694483e-02, 3.97652760e-02, 3.97646315e-02,\n",
              "        3.97739261e-02, 3.98136005e-02, 3.99750322e-02, 4.06969860e-02,\n",
              "        4.30432446e-02],\n",
              "       [4.13828194e-02, 3.99147682e-02, 3.97406742e-02, 3.96850184e-02,\n",
              "        3.96728888e-02, 3.96815538e-02, 3.96981351e-02, 3.97165753e-02,\n",
              "        3.97340208e-02, 3.97492014e-02, 3.97615992e-02, 3.97708304e-02,\n",
              "        3.97769585e-02, 3.97800319e-02, 3.97803336e-02, 3.97782288e-02,\n",
              "        3.97742465e-02, 3.97694483e-02, 3.97652760e-02, 3.97646315e-02,\n",
              "        3.97739261e-02, 3.98136005e-02, 3.99750322e-02, 4.06969860e-02,\n",
              "        4.30432446e-02],\n",
              "       [4.13828194e-02, 3.99147682e-02, 3.97406742e-02, 3.96850184e-02,\n",
              "        3.96728888e-02, 3.96815538e-02, 3.96981351e-02, 3.97165753e-02,\n",
              "        3.97340208e-02, 3.97492014e-02, 3.97615992e-02, 3.97708304e-02,\n",
              "        3.97769585e-02, 3.97800319e-02, 3.97803336e-02, 3.97782288e-02,\n",
              "        3.97742465e-02, 3.97694483e-02, 3.97652760e-02, 3.97646315e-02,\n",
              "        3.97739261e-02, 3.98136005e-02, 3.99750322e-02, 4.06969860e-02,\n",
              "        4.30432446e-02]], dtype=float32)"
            ]
          },
          "metadata": {},
          "execution_count": 69
        }
      ]
    },
    {
      "cell_type": "code",
      "source": [
        "type(pred_attention)"
      ],
      "metadata": {
        "colab": {
          "base_uri": "https://localhost:8080/"
        },
        "id": "mQSOJ0XrHjpx",
        "outputId": "a4938b43-6951-4b87-ccf7-945a7e595871"
      },
      "execution_count": 217,
      "outputs": [
        {
          "output_type": "execute_result",
          "data": {
            "text/plain": [
              "numpy.ndarray"
            ]
          },
          "metadata": {},
          "execution_count": 217
        }
      ]
    },
    {
      "cell_type": "code",
      "source": [
        "# pred_sent_attention * pred_attention 을 곱해서  word의 sentence를 고려한 word attention을 구할 수 있으\n",
        "pred_att = pred_word_attention # pred_att를  pred_word_attention의 모양을 그대로 가져오고자함\n",
        "\n",
        "for i in range(len(pred_sent_attention)):    # sentence개수만큼 구해야함 여기서는 10이 나옴\n",
        "  for j in range(len(pred_attention[i])):       # sentence내의 word개수만큼 구해야함  여기서는 25이 나옴 한개 문장을 padding으로 길이 25로 맞춤\n",
        "       pred_att[i][j] = pred_sent_attention[i] * pred_attention[i][j]                               \n",
        "\n",
        "pred_att  # 기존 pred_word_attetion과 값이 달라진것을 확인할 수 있음"
      ],
      "metadata": {
        "colab": {
          "base_uri": "https://localhost:8080/"
        },
        "id": "bIL-FKjjSRSe",
        "outputId": "491f58b1-8eac-438a-b45a-5486b520c3b4"
      },
      "execution_count": 66,
      "outputs": [
        {
          "output_type": "execute_result",
          "data": {
            "text/plain": [
              "array([[1.15029397e-05, 1.11299314e-05, 1.10839601e-05, 1.10688752e-05,\n",
              "        1.10648234e-05, 1.10657938e-05, 1.10685805e-05, 1.10716519e-05,\n",
              "        1.10743458e-05, 1.10763731e-05, 1.10776400e-05, 1.10782121e-05,\n",
              "        1.10782330e-05, 1.10779365e-05, 1.10778201e-05, 1.10786550e-05,\n",
              "        1.10819001e-05, 1.10925257e-05, 1.11310983e-05, 1.13358419e-05,\n",
              "        1.19151928e-05, 4.77627926e-02, 7.14505091e-02, 9.55209602e-03,\n",
              "        2.20859330e-02],\n",
              "       [8.23918162e-06, 7.80884420e-06, 7.75820445e-06, 7.74241653e-06,\n",
              "        7.73919874e-06, 7.74198907e-06, 7.74712953e-06, 7.75295393e-06,\n",
              "        7.75875287e-06, 7.76434899e-06, 7.76989600e-06, 7.77596779e-06,\n",
              "        7.78378671e-06, 7.79669972e-06, 7.82634925e-06, 7.93184608e-06,\n",
              "        8.38128744e-06, 1.04650635e-05, 2.70062268e-01, 6.80653052e-03,\n",
              "        3.41931870e-03, 1.74805420e-04, 1.01807760e-02, 3.14979884e-03,\n",
              "        3.28630931e-03],\n",
              "       [3.20725703e-05, 3.10559626e-05, 3.09325878e-05, 3.08930212e-05,\n",
              "        3.08835370e-05, 3.08878953e-05, 3.08973540e-05, 3.09077877e-05,\n",
              "        3.09172792e-05, 3.09251227e-05, 3.09309071e-05, 3.09347670e-05,\n",
              "        3.09367751e-05, 3.09374227e-05, 3.09372772e-05, 3.09373645e-05,\n",
              "        3.09391071e-05, 3.09445350e-05, 3.09581410e-05, 3.09950410e-05,\n",
              "        3.11564399e-05, 3.18370039e-05, 3.46501183e-05, 1.69920638e-01,\n",
              "        8.61718953e-02],\n",
              "       [4.14993883e-06, 3.97705116e-06, 3.95562711e-06, 3.94924928e-06,\n",
              "        3.94836024e-06, 3.95015286e-06, 3.95328107e-06, 3.95727147e-06,\n",
              "        3.96218866e-06, 3.96876067e-06, 3.97947952e-06, 4.01455600e-06,\n",
              "        4.13522685e-06, 4.83274380e-06, 2.09963787e-03, 3.62158641e-02,\n",
              "        1.41952887e-01, 3.54632339e-03, 1.95608591e-05, 2.02816154e-05,\n",
              "        1.31627452e-03, 5.05723001e-04, 1.28292246e-04, 8.06193054e-03,\n",
              "        4.87702753e-04],\n",
              "       [1.80863535e-05, 1.75496571e-05, 1.74836568e-05, 1.74618126e-05,\n",
              "        1.74561246e-05, 1.74579982e-05, 1.74627530e-05, 1.74681481e-05,\n",
              "        1.74732904e-05, 1.74778306e-05, 1.74818542e-05, 1.74856905e-05,\n",
              "        1.74901361e-05, 1.74970173e-05, 1.75117239e-05, 1.75605146e-05,\n",
              "        1.77738857e-05, 1.84688797e-05, 1.78361451e-03, 1.78377412e-03,\n",
              "        1.34129822e-03, 1.67743093e-03, 1.48901278e-02, 2.94962451e-02,\n",
              "        2.11160374e-03],\n",
              "       [2.52276118e-06, 2.43489103e-06, 2.42433453e-06, 2.42095439e-06,\n",
              "        2.42013721e-06, 2.42050646e-06, 2.42131227e-06, 2.42219676e-06,\n",
              "        2.42300098e-06, 2.42365491e-06, 2.42412648e-06, 2.42441774e-06,\n",
              "        2.42454257e-06, 2.42453780e-06, 2.42447322e-06, 2.42446845e-06,\n",
              "        2.42474607e-06, 2.42578449e-06, 2.42934743e-06, 2.44249622e-06,\n",
              "        2.51390111e-06, 2.75129696e-06, 2.46568732e-02, 1.91633161e-02,\n",
              "        3.27539834e-04],\n",
              "       [3.57906938e-05, 3.45210246e-05, 3.43704560e-05, 3.43223219e-05,\n",
              "        3.43118299e-05, 3.43193242e-05, 3.43336651e-05, 3.43496140e-05,\n",
              "        3.43647007e-05, 3.43778302e-05, 3.43885513e-05, 3.43965366e-05,\n",
              "        3.44018372e-05, 3.44044965e-05, 3.44047548e-05, 3.44029359e-05,\n",
              "        3.43994907e-05, 3.43953398e-05, 3.43917345e-05, 3.43911743e-05,\n",
              "        3.43992142e-05, 3.44335276e-05, 3.45731460e-05, 3.51975395e-05,\n",
              "        3.72267459e-05],\n",
              "       [2.82670590e-05, 2.72642883e-05, 2.71453700e-05, 2.71073532e-05,\n",
              "        2.70990695e-05, 2.71049867e-05, 2.71163135e-05, 2.71289100e-05,\n",
              "        2.71408262e-05, 2.71511944e-05, 2.71596637e-05, 2.71659683e-05,\n",
              "        2.71701556e-05, 2.71722547e-05, 2.71724602e-05, 2.71710232e-05,\n",
              "        2.71683020e-05, 2.71650242e-05, 2.71621757e-05, 2.71617355e-05,\n",
              "        2.71680838e-05, 2.71951831e-05, 2.73054520e-05, 2.77985910e-05,\n",
              "        2.94012334e-05],\n",
              "       [2.77419149e-05, 2.67577725e-05, 2.66410643e-05, 2.66037550e-05,\n",
              "        2.65956223e-05, 2.66014322e-05, 2.66125480e-05, 2.66249099e-05,\n",
              "        2.66366042e-05, 2.66467814e-05, 2.66550924e-05, 2.66612806e-05,\n",
              "        2.66653878e-05, 2.66674488e-05, 2.66676507e-05, 2.66662410e-05,\n",
              "        2.66635707e-05, 2.66603547e-05, 2.66575571e-05, 2.66571242e-05,\n",
              "        2.66633560e-05, 2.66899533e-05, 2.67981723e-05, 2.72821508e-05,\n",
              "        2.88550182e-05],\n",
              "       [2.68550957e-05, 2.59024146e-05, 2.57894371e-05, 2.57533193e-05,\n",
              "        2.57454485e-05, 2.57510710e-05, 2.57618321e-05, 2.57737993e-05,\n",
              "        2.57851189e-05, 2.57949705e-05, 2.58030159e-05, 2.58090076e-05,\n",
              "        2.58129839e-05, 2.58149776e-05, 2.58151740e-05, 2.58138080e-05,\n",
              "        2.58112232e-05, 2.58081109e-05, 2.58054024e-05, 2.58049840e-05,\n",
              "        2.58110158e-05, 2.58367618e-05, 2.59415228e-05, 2.64100290e-05,\n",
              "        2.79326177e-05]], dtype=float32)"
            ]
          },
          "metadata": {},
          "execution_count": 66
        }
      ]
    },
    {
      "cell_type": "code",
      "source": [
        "len(tokenized_sentences)"
      ],
      "metadata": {
        "colab": {
          "base_uri": "https://localhost:8080/"
        },
        "id": "2oU8nh6qQhFP",
        "outputId": "922bc3f9-87be-495b-995f-a74c7e612be2"
      },
      "execution_count": 132,
      "outputs": [
        {
          "output_type": "execute_result",
          "data": {
            "text/plain": [
              "10"
            ]
          },
          "metadata": {},
          "execution_count": 132
        }
      ]
    },
    {
      "cell_type": "code",
      "source": [
        "sentiment_sent_analysis(sent1)"
      ],
      "metadata": {
        "colab": {
          "base_uri": "https://localhost:8080/"
        },
        "id": "6FhdfrmHUcbu",
        "outputId": "ad920e00-afb6-4885-d51f-0e77628a70b9"
      },
      "execution_count": 141,
      "outputs": [
        {
          "output_type": "stream",
          "name": "stdout",
          "text": [
            "[0.10412683 0.42043734 0.02562917 0.32664895 0.08191442 0.02769754\n",
            " 0.00366709 0.00330669 0.00326987 0.00330221]\n"
          ]
        }
      ]
    },
    {
      "cell_type": "code",
      "source": [
        ""
      ],
      "metadata": {
        "id": "rvxnyHGvLOcb"
      },
      "execution_count": 140,
      "outputs": []
    },
    {
      "cell_type": "code",
      "source": [
        ""
      ],
      "metadata": {
        "id": "hFNPH3lJbZm4"
      },
      "execution_count": 131,
      "outputs": []
    },
    {
      "cell_type": "code",
      "source": [
        "tokenized_sentences = doc2hierarchical(sent1) ;tokenized_sentences  # 각각의 단어를 padding 25로 맞춤 한 문장의 단어 수 25개까지 받음"
      ],
      "metadata": {
        "colab": {
          "base_uri": "https://localhost:8080/"
        },
        "id": "axiBxpExbdG8",
        "outputId": "248a9e25-9083-4fef-fef7-f2439c0385db"
      },
      "execution_count": 110,
      "outputs": [
        {
          "output_type": "execute_result",
          "data": {
            "text/plain": [
              "array([[    0,     0,     0,     0,     0,     0,     0,     0,     0,\n",
              "            0,     0,     0,     0,     0,     0,     0,     0,     0,\n",
              "            0,     0,     0,  1591,  3116,   127,   465],\n",
              "       [    0,     0,     0,     0,     0,     0,     0,     0,     0,\n",
              "            0,     0,     0,     0,     0,     0,     0,     0,     0,\n",
              "           49,   113,   241,     5,    29,     1,   102],\n",
              "       [    0,     0,     0,     0,     0,     0,     0,     0,     0,\n",
              "            0,     0,     0,     0,     0,     0,     0,     0,     0,\n",
              "            0,     0,     0,     0,     0,    78, 67633],\n",
              "       [    0,     0,     0,     0,     0,     0,     0,     0,     0,\n",
              "            0,     0,     0,     0,     0,   371,  1630,   399,   272,\n",
              "            5,     3,   194,  1261,     4,  5815,    17],\n",
              "       [    0,     0,     0,     0,     0,     0,     0,     0,     0,\n",
              "            0,     0,     0,     0,     0,     0,     0,     0,     0,\n",
              "          139,    63,     9,    22,  4007,  2529,     9],\n",
              "       [    0,     0,     0,     0,     0,     0,     0,     0,     0,\n",
              "            0,     0,     0,     0,     0,     0,     0,     0,     0,\n",
              "            0,     0,     0,     0,  3116,  5815, 29041],\n",
              "       [    0,     0,     0,     0,     0,     0,     0,     0,     0,\n",
              "            0,     0,     0,     0,     0,     0,     0,     0,     0,\n",
              "            0,     0,     0,     0,     0,     0,     0],\n",
              "       [    0,     0,     0,     0,     0,     0,     0,     0,     0,\n",
              "            0,     0,     0,     0,     0,     0,     0,     0,     0,\n",
              "            0,     0,     0,     0,     0,     0,     0],\n",
              "       [    0,     0,     0,     0,     0,     0,     0,     0,     0,\n",
              "            0,     0,     0,     0,     0,     0,     0,     0,     0,\n",
              "            0,     0,     0,     0,     0,     0,     0],\n",
              "       [    0,     0,     0,     0,     0,     0,     0,     0,     0,\n",
              "            0,     0,     0,     0,     0,     0,     0,     0,     0,\n",
              "            0,     0,     0,     0,     0,     0,     0]], dtype=int32)"
            ]
          },
          "metadata": {},
          "execution_count": 110
        }
      ]
    },
    {
      "cell_type": "code",
      "source": [
        "pred_attention = attention_extractor.predict(np.asarray([tokenized_sentences]))[0][0] ; pred_attention"
      ],
      "metadata": {
        "colab": {
          "base_uri": "https://localhost:8080/"
        },
        "id": "MYQ1KZfebh0_",
        "outputId": "8e843d63-0b79-40ce-9592-1c739e0c8763"
      },
      "execution_count": 195,
      "outputs": [
        {
          "output_type": "execute_result",
          "data": {
            "text/plain": [
              "array([[2.51648104e-04, 2.44007140e-04, 2.42095790e-04, 2.41363610e-04,\n",
              "        2.41011687e-04, 2.40816400e-04, 2.40704365e-04, 2.40644673e-04,\n",
              "        2.40620808e-04, 2.40624489e-04, 2.40651338e-04, 2.40699766e-04,\n",
              "        2.40770925e-04, 2.40869223e-04, 2.41002970e-04, 2.41187809e-04,\n",
              "        2.41456626e-04, 2.41898932e-04, 2.42686612e-04, 2.45765928e-04,\n",
              "        2.46998330e-04, 3.26069444e-01, 4.48774517e-01, 7.62246102e-02,\n",
              "        1.43843934e-01],\n",
              "       [6.34506141e-05, 6.12678123e-05, 6.07304573e-05, 6.05297064e-05,\n",
              "        6.04372981e-05, 6.03902809e-05, 6.03684057e-05, 6.03632216e-05,\n",
              "        6.03710578e-05, 6.03904009e-05, 6.04218003e-05, 6.04679699e-05,\n",
              "        6.05358255e-05, 6.06415633e-05, 6.08299888e-05, 6.12488730e-05,\n",
              "        6.29635688e-05, 6.61362646e-05, 9.18018579e-01, 2.32745688e-02,\n",
              "        1.09368237e-02, 3.33800708e-04, 1.08969845e-02, 1.43945999e-02,\n",
              "        2.10429840e-02],\n",
              "       [2.71908593e-05, 2.63955590e-05, 2.62007143e-05, 2.61273053e-05,\n",
              "        2.60923935e-05, 2.60734905e-05, 2.60631477e-05, 2.60582274e-05,\n",
              "        2.60571833e-05, 2.60590241e-05, 2.60633969e-05, 2.60701581e-05,\n",
              "        2.60793095e-05, 2.60913002e-05, 2.61067307e-05, 2.61268069e-05,\n",
              "        2.61535279e-05, 2.61911209e-05, 2.62489830e-05, 2.63529273e-05,\n",
              "        2.65898252e-05, 2.74160902e-05, 2.92606364e-05, 6.13571823e-01,\n",
              "        3.85821164e-01],\n",
              "       [6.29393908e-05, 6.13027732e-05, 6.08967603e-05, 6.07481452e-05,\n",
              "        6.06844551e-05, 6.06586509e-05, 6.06567410e-05, 6.06754256e-05,\n",
              "        6.07172806e-05, 6.07938200e-05, 6.09452109e-05, 6.12567310e-05,\n",
              "        6.26371839e-05, 6.44380489e-05, 9.98607278e-03, 2.05490917e-01,\n",
              "        7.41207898e-01, 8.61308631e-03, 1.78962990e-04, 1.07245834e-03,\n",
              "        7.13963760e-03, 4.32549091e-03, 2.14818487e-04, 1.68921798e-02,\n",
              "        4.01910208e-03],\n",
              "       [3.47974245e-04, 3.36886646e-04, 3.34138458e-04, 3.33097763e-04,\n",
              "        3.32611118e-04, 3.32356169e-04, 3.32227210e-04, 3.32180323e-04,\n",
              "        3.32194555e-04, 3.32260504e-04, 3.32377094e-04, 3.32551834e-04,\n",
              "        3.32803727e-04, 3.33173375e-04, 3.33750242e-04, 3.34772572e-04,\n",
              "        3.37970152e-04, 3.41259147e-04, 2.40046047e-02, 7.95015786e-03,\n",
              "        1.48062585e-02, 2.27960888e-02, 1.88577145e-01, 7.00055778e-01,\n",
              "        3.57854031e-02],\n",
              "       [8.10482088e-05, 7.85715383e-05, 7.79546681e-05, 7.77192108e-05,\n",
              "        7.76064771e-05, 7.75440494e-05, 7.75084118e-05, 7.74894797e-05,\n",
              "        7.74821747e-05, 7.74834261e-05, 7.74919317e-05, 7.75070730e-05,\n",
              "        7.75292574e-05, 7.75595036e-05, 7.76000452e-05, 7.76551242e-05,\n",
              "        7.77322493e-05, 7.78483518e-05, 7.80537521e-05, 7.84640870e-05,\n",
              "        8.07165197e-05, 8.19028355e-05, 3.60202760e-01, 5.81976831e-01,\n",
              "        5.60999773e-02],\n",
              "       [4.17444222e-02, 4.03538011e-02, 4.00091931e-02, 3.98771614e-02,\n",
              "        3.98131721e-02, 3.97771001e-02, 3.97556722e-02, 3.97431441e-02,\n",
              "        3.97366248e-02, 3.97342369e-02, 3.97349782e-02, 3.97382379e-02,\n",
              "        3.97437513e-02, 3.97513472e-02, 3.97612303e-02, 3.97735536e-02,\n",
              "        3.97888981e-02, 3.98081988e-02, 3.98330167e-02, 3.98662128e-02,\n",
              "        3.99132520e-02, 3.99871655e-02, 4.01195399e-02, 4.05351035e-02,\n",
              "        4.11010385e-02],\n",
              "       [4.17444222e-02, 4.03538011e-02, 4.00091931e-02, 3.98771614e-02,\n",
              "        3.98131721e-02, 3.97771001e-02, 3.97556722e-02, 3.97431441e-02,\n",
              "        3.97366248e-02, 3.97342369e-02, 3.97349782e-02, 3.97382379e-02,\n",
              "        3.97437513e-02, 3.97513472e-02, 3.97612303e-02, 3.97735536e-02,\n",
              "        3.97888981e-02, 3.98081988e-02, 3.98330167e-02, 3.98662128e-02,\n",
              "        3.99132520e-02, 3.99871655e-02, 4.01195399e-02, 4.05351035e-02,\n",
              "        4.11010385e-02],\n",
              "       [4.17444222e-02, 4.03538011e-02, 4.00091931e-02, 3.98771614e-02,\n",
              "        3.98131721e-02, 3.97771001e-02, 3.97556722e-02, 3.97431441e-02,\n",
              "        3.97366248e-02, 3.97342369e-02, 3.97349782e-02, 3.97382379e-02,\n",
              "        3.97437513e-02, 3.97513472e-02, 3.97612303e-02, 3.97735536e-02,\n",
              "        3.97888981e-02, 3.98081988e-02, 3.98330167e-02, 3.98662128e-02,\n",
              "        3.99132520e-02, 3.99871655e-02, 4.01195399e-02, 4.05351035e-02,\n",
              "        4.11010385e-02],\n",
              "       [4.17444222e-02, 4.03538011e-02, 4.00091931e-02, 3.98771614e-02,\n",
              "        3.98131721e-02, 3.97771001e-02, 3.97556722e-02, 3.97431441e-02,\n",
              "        3.97366248e-02, 3.97342369e-02, 3.97349782e-02, 3.97382379e-02,\n",
              "        3.97437513e-02, 3.97513472e-02, 3.97612303e-02, 3.97735536e-02,\n",
              "        3.97888981e-02, 3.98081988e-02, 3.98330167e-02, 3.98662128e-02,\n",
              "        3.99132520e-02, 3.99871655e-02, 4.01195399e-02, 4.05351035e-02,\n",
              "        4.11010385e-02]], dtype=float32)"
            ]
          },
          "metadata": {},
          "execution_count": 195
        }
      ]
    },
    {
      "cell_type": "code",
      "source": [
        "for sent_idx, sentence in enumerate(tokenized_sentences):\n",
        "    if sentence[-1] == 0:\n",
        "        continue\n",
        "        \n",
        "    for word_idx in range(MAX_SENTENCE_LENGTH):\n",
        "        if sentence[word_idx] != 0:\n",
        "            words = [word_rev_index[word_id] for word_id in sentence[word_idx:]]\n",
        "            pred_att = pred_attention[sent_idx][-len(words):]\n",
        "            pred_att = np.expand_dims(pred_att, axis=0)\n",
        "            break"
      ],
      "metadata": {
        "id": "dYbKku36bmXr"
      },
      "execution_count": null,
      "outputs": []
    },
    {
      "cell_type": "code",
      "source": [
        "# 가장 마지막 단어의 attention임을 알 수 있음\n",
        "pred_att # perfection. marvel, endgame"
      ],
      "metadata": {
        "colab": {
          "base_uri": "https://localhost:8080/"
        },
        "id": "TnxCDDd4b-1p",
        "outputId": "f569d9ee-c3bc-4f09-9113-0353dfa5437a"
      },
      "execution_count": null,
      "outputs": [
        {
          "output_type": "execute_result",
          "data": {
            "text/plain": [
              "array([[0.38078085, 0.5167992 , 0.1015916 ]], dtype=float32)"
            ]
          },
          "metadata": {},
          "execution_count": 135
        }
      ]
    },
    {
      "cell_type": "code",
      "source": [
        ""
      ],
      "metadata": {
        "id": "_J8HVPvwcAxh"
      },
      "execution_count": null,
      "outputs": []
    },
    {
      "cell_type": "code",
      "source": [
        "sentiment_analysis(\"Absolute perfection end game !! Good acting performance to all the characters. Great cgi's. Truly epic & perfect ending to a long journey of marvel movie. Go see it you wont regret it !! Perfection Marvel Endgame !!\")\n",
        "# 총 6개의 문장으로 이루어짐"
      ],
      "metadata": {
        "colab": {
          "base_uri": "https://localhost:8080/",
          "height": 824
        },
        "id": "sPBaNWV2Y9el",
        "outputId": "ddad05cb-383e-44a2-a0b6-837a408d5e02"
      },
      "execution_count": null,
      "outputs": [
        {
          "output_type": "display_data",
          "data": {
            "image/png": "[encoded data removed]",
            "text/plain": [
              "<Figure size 288x72 with 2 Axes>"
            ]
          },
          "metadata": {
            "needs_background": "light"
          }
        },
        {
          "output_type": "display_data",
          "data": {
            "image/png": "[encoded data removed]",
            "text/plain": [
              "<Figure size 504x72 with 2 Axes>"
            ]
          },
          "metadata": {
            "needs_background": "light"
          }
        },
        {
          "output_type": "display_data",
          "data": {
            "image/png": "[encoded data removed]",
            "text/plain": [
              "<Figure size 144x72 with 2 Axes>"
            ]
          },
          "metadata": {
            "needs_background": "light"
          }
        },
        {
          "output_type": "display_data",
          "data": {
            "image/png": "[encoded data removed]",
            "text/plain": [
              "<Figure size 792x72 with 2 Axes>"
            ]
          },
          "metadata": {
            "needs_background": "light"
          }
        },
        {
          "output_type": "display_data",
          "data": {
            "image/png": "[encoded data removed]",
            "text/plain": [
              "<Figure size 504x72 with 2 Axes>"
            ]
          },
          "metadata": {
            "needs_background": "light"
          }
        },
        {
          "output_type": "display_data",
          "data": {
            "image/png": "[encoded data removed]",
            "text/plain": [
              "<Figure size 216x72 with 2 Axes>"
            ]
          },
          "metadata": {
            "needs_background": "light"
          }
        }
      ]
    },
    {
      "cell_type": "code",
      "source": [
        "sentiment_analysis(\"Delicious healthy food. The steak is amazing. Fish and pork are awesome too. Service is above and beyond. Not a bad thing to say about this place. Worth every penny!\")"
      ],
      "metadata": {
        "colab": {
          "base_uri": "https://localhost:8080/",
          "height": 790
        },
        "id": "F_vfgavRaWz5",
        "outputId": "e5f3cd9c-2d6a-4271-b848-5b9a51fb77c4"
      },
      "execution_count": null,
      "outputs": [
        {
          "output_type": "display_data",
          "data": {
            "image/png": "[encoded data removed]",
            "text/plain": [
              "<Figure size 216x72 with 2 Axes>"
            ]
          },
          "metadata": {
            "needs_background": "light"
          }
        },
        {
          "output_type": "display_data",
          "data": {
            "image/png": "[encoded data removed]",
            "text/plain": [
              "<Figure size 288x72 with 2 Axes>"
            ]
          },
          "metadata": {
            "needs_background": "light"
          }
        },
        {
          "output_type": "display_data",
          "data": {
            "image/png": "[encoded data removed]",
            "text/plain": [
              "<Figure size 432x72 with 2 Axes>"
            ]
          },
          "metadata": {
            "needs_background": "light"
          }
        },
        {
          "output_type": "display_data",
          "data": {
            "image/png": "[encoded data removed]",
            "text/plain": [
              "<Figure size 360x72 with 2 Axes>"
            ]
          },
          "metadata": {
            "needs_background": "light"
          }
        },
        {
          "output_type": "display_data",
          "data": {
            "image/png": "[encoded data removed]",
            "text/plain": [
              "<Figure size 648x72 with 2 Axes>"
            ]
          },
          "metadata": {
            "needs_background": "light"
          }
        },
        {
          "output_type": "display_data",
          "data": {
            "image/png": "[encoded data removed]",
            "text/plain": [
              "<Figure size 216x72 with 2 Axes>"
            ]
          },
          "metadata": {
            "needs_background": "light"
          }
        }
      ]
    },
    {
      "cell_type": "code",
      "source": [
        "sentiment_analysis('''**HISTORY OF PRESENT ILLNESS:**  This is a 66-year-old male with\n",
        "a nonhealing right malleolar wound and fracture for the last\n",
        "2 years who underwent a right ankle traction and open\n",
        "reduction internal fixation. The patient has had multiple\n",
        "admissions for wound infections and multiple IV antibiotic\n",
        "courses. Most recent admission was [**2189-9-28**], for a\n",
        "wound infection. The patient recently complained of a\n",
        "temperature elevation on [**2189-11-30**], and now is to be\n",
        "admitted to Dr.[**Name (NI) 1392**] service for continued IV\n",
        "antibiotics. The patient initially was discharged on\n",
        "daptomycin and followed by VNA.\n",
        "''')"
      ],
      "metadata": {
        "id": "kj8023Ao6Smy",
        "colab": {
          "base_uri": "https://localhost:8080/",
          "height": 757
        },
        "outputId": "25e8e55e-3454-4933-ba7e-57f647f397cf"
      },
      "execution_count": null,
      "outputs": [
        {
          "output_type": "display_data",
          "data": {
            "image/png": "[encoded data removed]",
            "text/plain": [
              "<Figure size 1800x72 with 2 Axes>"
            ]
          },
          "metadata": {
            "needs_background": "light"
          }
        },
        {
          "output_type": "display_data",
          "data": {
            "image/png": "[encoded data removed]",
            "text/plain": [
              "<Figure size 936x72 with 2 Axes>"
            ]
          },
          "metadata": {
            "needs_background": "light"
          }
        },
        {
          "output_type": "display_data",
          "data": {
            "image/png": "[encoded data removed]",
            "text/plain": [
              "<Figure size 720x72 with 2 Axes>"
            ]
          },
          "metadata": {
            "needs_background": "light"
          }
        },
        {
          "output_type": "display_data",
          "data": {
            "image/png": "[encoded data removed]",
            "text/plain": [
              "<Figure size 1800x72 with 2 Axes>"
            ]
          },
          "metadata": {
            "needs_background": "light"
          }
        },
        {
          "output_type": "display_data",
          "data": {
            "image/png": "[encoded data removed]",
            "text/plain": [
              "<Figure size 648x72 with 2 Axes>"
            ]
          },
          "metadata": {
            "needs_background": "light"
          }
        }
      ]
    },
    {
      "cell_type": "code",
      "source": [
        "# word attention 수치 뽑기\n",
        "\n"
      ],
      "metadata": {
        "id": "qrGxYb5T02fX"
      },
      "execution_count": null,
      "outputs": []
    },
    {
      "cell_type": "code",
      "source": [
        "# sentence attention 수치 뽑기\n",
        "sentiment_sent_analysis(\"Absolute perfection end game !! Good acting performance to all the characters. Great cgi's. Truly epic & perfect ending to a long journey of marvel movie. Go see it you wont regret it !! Perfection Marvel Endgame !!\")\n",
        "\n"
      ],
      "metadata": {
        "id": "FAZXJPLR02h8"
      },
      "execution_count": null,
      "outputs": []
    }
  ]
}